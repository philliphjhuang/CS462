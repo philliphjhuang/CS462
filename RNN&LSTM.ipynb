{
  "cells": [
    {
      "cell_type": "markdown",
      "metadata": {
        "id": "db0ed2df"
      },
      "source": [
        "Please fill in your name and netid (double-click the cell to edit).\n",
        "\n",
        "Name: Phillip Huang\n",
        "\n",
        "netid: ph390"
      ],
      "id": "db0ed2df"
    },
    {
      "cell_type": "markdown",
      "metadata": {
        "id": "starting-wedding"
      },
      "source": [
        "---\n",
        "# Neural Machine Translation with Vanilla RNNs, LSTMs, and Attention\n",
        "\n",
        "In this assignment, you will implement Neural Machine Translation (NMT) models using:\n",
        "1. Vanilla RNNs\n",
        "2. LSTMs\n",
        "3. LSTMs with attention\n",
        "\n",
        "As in previous assignments, you will see code blocks that look like this:\n",
        "```python\n",
        "###############################################################################\n",
        "# TODO: Create a variable x with value 462.                                   #\n",
        "###############################################################################\n",
        "# Replace \"pass\" statement with your code\n",
        "pass\n",
        "# END OF YOUR CODE\n",
        "```\n",
        "\n",
        "You should replace the `pass` statement with your own code and leave the blocks intact, like this:\n",
        "```python\n",
        "###############################################################################\n",
        "# TODO: Create a variable x with value 462.                                   #\n",
        "###############################################################################\n",
        "# Replace \"pass\" statement with your code\n",
        "x = 462\n",
        "# END OF YOUR CODE\n",
        "```\n",
        "\n",
        "Also, please remember:\n",
        "- Do not write or modify any code outside of code blocks unless otherwise stated.\n",
        "- Do not delete any cells from the notebook. You may add new cells to perform scratch work, but please delete them before submitting.\n",
        "- Run all cells before submitting, so that your results are stored in the notebook.\n",
        "- Submit your notebook as `netid.ipynb`, where `netid` is your actual netid."
      ],
      "id": "starting-wedding"
    },
    {
      "cell_type": "code",
      "execution_count": null,
      "metadata": {
        "id": "partial-filling"
      },
      "outputs": [],
      "source": [
        "from __future__ import print_function\n",
        "from __future__ import division\n",
        "\n",
        "import math\n",
        "import pickle\n",
        "import random\n",
        "import torch\n",
        "import torch.nn as nn\n",
        "import torch.nn.functional as F\n",
        "import torch.optim as optim\n",
        "\n",
        "from collections import Counter\n",
        "from torch.utils.data import DataLoader, TensorDataset\n",
        "from torch.nn.utils.rnn import pack_padded_sequence, invert_permutation\n",
        "from torch.nn.utils import clip_grad_norm_\n",
        "\n",
        "import matplotlib.pyplot as plt\n",
        "\n",
        "%matplotlib inline\n",
        "plt.rcParams['figure.figsize'] = (10.0, 8.0)"
      ],
      "id": "partial-filling"
    },
    {
      "cell_type": "code",
      "execution_count": null,
      "metadata": {
        "id": "italic-compromise"
      },
      "outputs": [],
      "source": [
        "assert torch.cuda.is_available(), 'GPU unavailable'"
      ],
      "id": "italic-compromise"
    },
    {
      "cell_type": "markdown",
      "metadata": {
        "id": "endless-symbol"
      },
      "source": [
        "## Data Preparation\n",
        "\n",
        "We will use the dataset from this PyTorch [tutorial](https://pytorch.org/tutorials/intermediate/seq2seq_translation_tutorial.html), and train neural networks to perform French-to-English translation. A preprocessed version is provided in `data.pickle`. Please put the file in the same directory as this notebook. In Google Colab, you have the option to upload files.\n",
        "\n",
        "The preprocessed dataset contains 10K French and English sentence pairs. Each sentence consists of 9-16 tokens. We will use 8K sentence pairs for training, and the remaining 2K for validation."
      ],
      "id": "endless-symbol"
    },
    {
      "cell_type": "code",
      "execution_count": null,
      "metadata": {
        "colab": {
          "base_uri": "https://localhost:8080/"
        },
        "id": "flexible-isaac",
        "outputId": "04b2aa1d-4e8c-464b-c218-439b460b259c"
      },
      "outputs": [
        {
          "name": "stdout",
          "output_type": "stream",
          "text": [
            "There are 10000 fra-eng sentence pairs.\n",
            "Here is a random sample:\n",
            "source sentence (fra): je veux toutes vous remercier pour du bon boulot .\n",
            "target sentence (eng): i want to thank you all for a job well done .\n",
            "The maximum sentence length is 16.\n"
          ]
        }
      ],
      "source": [
        "# Load data\n",
        "with open('data.pickle', 'rb') as f:\n",
        "  target_text, source_text = pickle.load(f)\n",
        "print(f'There are {len(source_text)} fra-eng sentence pairs.')\n",
        "\n",
        "# Show a random sample\n",
        "idx = random.randrange(len(source_text))\n",
        "print('Here is a random sample:')\n",
        "print('source sentence (fra):', source_text[idx])\n",
        "print('target sentence (eng):', target_text[idx])\n",
        "\n",
        "# Split sentences into words\n",
        "source_text = [sentence.split(' ') for sentence in source_text]\n",
        "target_text = [sentence.split(' ') for sentence in target_text]\n",
        "MAX_LEN = max(max([len(sentence) for sentence in source_text]),\n",
        "              max([len(sentence) for sentence in target_text]))\n",
        "print(f'The maximum sentence length is {MAX_LEN}.')"
      ],
      "id": "flexible-isaac"
    },
    {
      "cell_type": "markdown",
      "metadata": {
        "id": "placed-semiconductor"
      },
      "source": [
        "## Vocabulary\n",
        "\n",
        "NMT models usually learn an embedding for each token. For this, PyTorch provides [`nn.Embedding`](https://pytorch.org/docs/stable/generated/torch.nn.Embedding.html?highlight=embedding#torch.nn.Embedding) that stores these embeddings as a lookup table. When given the index of a token, this module can retrieve the token's embedding.\n",
        "\n",
        "To make use of `nn.Embedding`, we need to map each token to an index. To convert model outputs back to readable tokens, we also need a reverse mapping that can retrieve the token given its index. The `Vocab` class below maintains exactly these two mappings. Note that to limit the vocabulary size and improve generalization, we do not store rare words in the vocabulary. They are replaced with the `'unk'` token."
      ],
      "id": "placed-semiconductor"
    },
    {
      "cell_type": "code",
      "execution_count": null,
      "metadata": {
        "id": "endless-designation"
      },
      "outputs": [],
      "source": [
        "class Vocab:\n",
        "\n",
        "  def __init__(self, text, min_freq=5):\n",
        "\n",
        "    # Initialize the vocabulary with special tokens\n",
        "    self.index2word = {\n",
        "      0: 'pad',  # padding\n",
        "      1: 'bos',  # begin of sentence\n",
        "      2: 'eos',  # end of sentence\n",
        "      3: 'unk',  # unknown\n",
        "    }\n",
        "    self.word2index = {v: k for k, v in self.index2word.items()}\n",
        "    self.size = 4  # initial vocabulary size\n",
        "\n",
        "    # Only add tokens that appear more than `min_freq` times in the training data\n",
        "    tokens = [token for sentence in text for token in sentence]\n",
        "    token_freq = Counter(tokens)\n",
        "    tokens = [token for token in token_freq if token_freq[token] >= min_freq]\n",
        "    self._build_vocab(tokens)\n",
        "\n",
        "\n",
        "  def _build_vocab(self, tokens):\n",
        "\n",
        "    for token in tokens:\n",
        "      if token not in self.word2index:\n",
        "        self.word2index[token] = self.size\n",
        "        self.index2word[self.size] = token\n",
        "        self.size += 1\n",
        "\n",
        "\n",
        "  def __getitem__(self, tokens):\n",
        "\n",
        "    if not isinstance(tokens, (list, tuple)):\n",
        "      return self.word2index.get(tokens, self.word2index['unk'])\n",
        "    else:\n",
        "      return [self.__getitem__(token) for token in tokens]"
      ],
      "id": "endless-designation"
    },
    {
      "cell_type": "code",
      "execution_count": null,
      "metadata": {
        "id": "declared-southwest"
      },
      "outputs": [],
      "source": [
        "def get_data_loader(source_text, target_text, batch_size):\n",
        "  \"\"\"\n",
        "  Build vocabulary and prepare data.\n",
        "  \"\"\"\n",
        "  # Use the first 8000 pairs as training data, and the rest for validation\n",
        "  source_vocab = Vocab(source_text[:8000])\n",
        "  target_vocab = Vocab(target_text[:8000])\n",
        "\n",
        "  # Convert each word to its index in the vocabulary\n",
        "  source_text = source_vocab[source_text]\n",
        "  # Record the length of each sentence\n",
        "  source_len = [len(sentence) for sentence in source_text]\n",
        "  # Pad each sentence to `MAX_LEN`\n",
        "  source_text = [sentence + [source_vocab['pad']] * (MAX_LEN - len(sentence))\n",
        "                 for sentence in source_text]\n",
        "  # Convert to PyTorch tensors\n",
        "  source_text = torch.LongTensor(source_text)  # shape: (num_sentences, MAX_LEN)\n",
        "  source_len = torch.LongTensor(source_len)  # shape: (num_sentences,)\n",
        "\n",
        "  # Convert each word to its index in the vocabulary\n",
        "  target_text = target_vocab[target_text]\n",
        "  # Add 'bos' and 'eos' tokens\n",
        "  target_text = [[target_vocab['bos']] + sentence + [target_vocab['eos']]\n",
        "                 for sentence in target_text]\n",
        "  # Record the length of each sentence\n",
        "  target_len = [len(sentence) for sentence in target_text]\n",
        "  # Pad each sentence to `MAX_LEN` (+2 for 'bos' and 'eos')\n",
        "  target_text = [sentence + [target_vocab['pad']] * (MAX_LEN + 2 - len(sentence))\n",
        "                 for sentence in target_text]\n",
        "  # Convert to PyTorch tensors\n",
        "  target_text = torch.LongTensor(target_text)  # shape: (num_sentences, MAX_LEN+2)\n",
        "  target_len = torch.LongTensor(target_len)  # shape: (num_sentences,)\n",
        "\n",
        "  train_set = TensorDataset(\n",
        "    source_text[:8000], source_len[:8000],\n",
        "    target_text[:8000], target_len[:8000])\n",
        "\n",
        "  val_set = TensorDataset(\n",
        "    source_text[8000:], source_len[8000:],\n",
        "    target_text[8000:], target_len[8000:])\n",
        "\n",
        "  loader_kwargs = {\n",
        "    'batch_size': batch_size,\n",
        "    'shuffle': True,\n",
        "    'num_workers': 4,\n",
        "    'pin_memory': True,\n",
        "    'drop_last': True,\n",
        "  }\n",
        "\n",
        "  train_loader = DataLoader(train_set, **loader_kwargs)\n",
        "  val_loader = DataLoader(val_set, **loader_kwargs)\n",
        "\n",
        "  return source_vocab, target_vocab, train_loader, val_loader"
      ],
      "id": "declared-southwest"
    },
    {
      "cell_type": "code",
      "execution_count": null,
      "metadata": {
        "colab": {
          "base_uri": "https://localhost:8080/"
        },
        "id": "international-indian",
        "outputId": "fdf4eb00-303b-4e11-fcc6-a714dcf692a7"
      },
      "outputs": [
        {
          "name": "stdout",
          "output_type": "stream",
          "text": [
            "source_vocab size: 1462\n",
            "target_vocab size: 1237\n"
          ]
        },
        {
          "name": "stderr",
          "output_type": "stream",
          "text": [
            "/usr/local/lib/python3.10/dist-packages/torch/utils/data/dataloader.py:561: UserWarning: This DataLoader will create 4 worker processes in total. Our suggested max number of worker in current system is 2, which is smaller than what this DataLoader is going to create. Please be aware that excessive worker creation might get DataLoader running slow or even freeze, lower the worker number to avoid potential slowness/freeze if necessary.\n",
            "  warnings.warn(_create_warning_msg(\n"
          ]
        }
      ],
      "source": [
        "source_vocab, target_vocab, train_loader, val_loader = get_data_loader(\n",
        "  source_text, target_text, batch_size=40)\n",
        "print('source_vocab size:', source_vocab.size)\n",
        "print('target_vocab size:', target_vocab.size)"
      ],
      "id": "international-indian"
    },
    {
      "cell_type": "markdown",
      "metadata": {
        "id": "rental-burden"
      },
      "source": [
        "## Sequence to Sequence Models for Neural Machine Translation\n",
        "\n",
        "A popular approach to neural machine translation is to use sequence to sequence (seq2seq) models, as shown below.\n",
        "\n",
        "<img src=\"https://raw.githubusercontent.com/dsgiitr/d2l-pytorch/master/img/seq2seq_predict.svg\" width=600>\n",
        "\n",
        "We first use the encoder to obtain an encoding of the source sentence. This encoding is then passed to the decoder which generates the translation one word at a time. Note that to start translation, we feed in the `'bos'` token. The generated word is then used as input for the next step. The translation is considered finished when the decoder outputs the `'eos'` token (i.e., all subsequent outputs are ignored).\n",
        "\n",
        "During training, we use teacher forcing, which means we feed in the ground truth words to the decoder instead of the generated words, as shown below.\n",
        "\n",
        "<img src=\"https://raw.githubusercontent.com/dsgiitr/d2l-pytorch/master/img/seq2seq.svg\" width=600>"
      ],
      "id": "rental-burden"
    },
    {
      "cell_type": "markdown",
      "metadata": {
        "id": "quality-reply"
      },
      "source": [
        "## Sequence to Sequence with Vanilla RNNs (15 points)\n",
        "\n",
        "Let us first implement the simplest seq2seq model, which uses vanilla RNNs for both the encoder and the decoder.\n",
        "\n",
        "- **Encoder**\n",
        "\n",
        "    The encoder RNN has its hidden state initialized to zero. At each step, the encoder takes in a word in the source sentence, and updates the hidden state. The hidden state at the last step is thus an encoding of all the words in the source sentence.\n",
        "\n",
        "- **Decoder**\n",
        "\n",
        "    The encoder hidden state at the last step is used to directly initialize the decoder hidden state, which is then updated using the decoder RNN. The encoder and decoder RNNs do not share parameters. A fully connected layer is used to predict the next word from the decoder hidden state at each step. Its output is an unnormalized probability distribution over the target vocabulary.\n",
        "\n",
        "<img src=\"https://raw.githubusercontent.com/dsgiitr/d2l-pytorch/master/img/seq2seq-details.svg\" width=450>"
      ],
      "id": "quality-reply"
    },
    {
      "cell_type": "markdown",
      "metadata": {
        "id": "incorporate-brunei"
      },
      "source": [
        "Implement `EncoderRNN` and `DecoderRNN` below:"
      ],
      "id": "incorporate-brunei"
    },
    {
      "cell_type": "code",
      "execution_count": null,
      "metadata": {
        "id": "sticky-telephone"
      },
      "outputs": [],
      "source": [
        "class EncoderRNN(nn.Module):\n",
        "\n",
        "  def __init__(self, vocab_size, embedding_dim, hidden_size):\n",
        "    super().__init__()\n",
        "\n",
        "    self.embedding = nn.Embedding(vocab_size, embedding_dim, padding_idx=0)  # word embeddings\n",
        "    self.rnn = nn.RNN(embedding_dim, hidden_size, batch_first=True)\n",
        "\n",
        "\n",
        "  def forward(self, source_text, source_len):\n",
        "    # type: (Tensor, Tensor) -> Tensor\n",
        "    \"\"\"\n",
        "    Inputs:\n",
        "    - source_text: A LongTensor of shape (batch_size, source_seq_len)\n",
        "      containing a mini-batch of source sentences padded to `source_seq_len`.\n",
        "      Each token is represented by its index in the vocabulary.\n",
        "    - source_len: A LongTensor of shape (batch_size,)\n",
        "      containing the actual length of each source sentence (before being padded).\n",
        "\n",
        "    Returns:\n",
        "    - source_hT: A PyTorch tensor of shape (batch_size, hidden_size)\n",
        "      containing the RNN hidden state at the end of each source sentence\n",
        "      (i.e., `source_hT` encodes all tokens before the padding tokens).\n",
        "    \"\"\"\n",
        "    #########################################################################\n",
        "    # TODO:                                                                 #\n",
        "    # Implement the forward pass.                                           #\n",
        "    #########################################################################\n",
        "    # Replace \"pass\" statement with your code\n",
        "    embedded = self.embedding(source_text)\n",
        "    packed_embedded = pack_padded_sequence(embedded, source_len.cpu(), batch_first=True, enforce_sorted=False)\n",
        "    _, hidden_state = self.rnn(packed_embedded)\n",
        "    source_hT = hidden_state.squeeze(0)\n",
        "    # END OF YOUR CODE\n",
        "    return source_hT"
      ],
      "id": "sticky-telephone"
    },
    {
      "cell_type": "code",
      "execution_count": null,
      "metadata": {
        "id": "round-ancient"
      },
      "outputs": [],
      "source": [
        "class DecoderRNN(nn.Module):\n",
        "\n",
        "  def __init__(self, vocab_size, embedding_dim, hidden_size):\n",
        "    super().__init__()\n",
        "\n",
        "    self.embedding = nn.Embedding(vocab_size, embedding_dim, padding_idx=0)  # word embeddings\n",
        "    self.rnn = nn.RNN(embedding_dim, hidden_size, batch_first=True)\n",
        "    self.out = nn.Linear(hidden_size, vocab_size)\n",
        "\n",
        "\n",
        "  def forward(self, target_text, source_hT):\n",
        "    # type: (Tensor, Tensor) -> Tensor\n",
        "    \"\"\"\n",
        "    For each word in each target sentence, predict its next word.\n",
        "\n",
        "    Inputs:\n",
        "    - target_text: A LongTensor of shape (batch_size, target_seq_len)\n",
        "      containing a mini-batch of target sentences padded to `target_seq_len`.\n",
        "      Each token is represented by its index in the vocabulary.\n",
        "    - source_hT: A PyTorch tensor of shape (batch_size, hidden_size)\n",
        "      containing the RNN hidden state at the end of each source sentence\n",
        "      (i.e., `source_hT` encodes all tokens before the padding tokens).\n",
        "\n",
        "    Returns:\n",
        "    - pred: A PyTorch tensor of shape (batch_size, target_seq_len, vocab_size)\n",
        "      containing the next word predictions in the form of unnormalized scores\n",
        "      for each possible word in the vocabulary.\n",
        "    \"\"\"\n",
        "    #########################################################################\n",
        "    # TODO:                                                                 #\n",
        "    # Implement the forward pass.                                           #\n",
        "    #########################################################################\n",
        "    # Replace \"pass\" statement with your code\n",
        "    embedded = self.embedding(target_text)\n",
        "    output, _ = self.rnn(embedded, source_hT.unsqueeze(0))\n",
        "    pred = self.out(output)\n",
        "    # END OF YOUR CODE\n",
        "    return pred\n",
        "\n",
        "\n",
        "  def predict(self, input_token, h_prev):\n",
        "    # type: (Tensor, Tensor) -> Tuple[Tensor, Tensor]\n",
        "    \"\"\"\n",
        "    Single-step prediction: For each input word, predict its next word.\n",
        "\n",
        "    Inputs:\n",
        "    - input_token: A LongTensor of shape (batch_size, 1)\n",
        "      containing a mini-batch of input tokens.\n",
        "      Each token is represented by its index in the vocabulary.\n",
        "    - h_prev: A PyTorch tensor of shape (1, batch_size, hidden_size)\n",
        "      containing the RNN encoding of all previous input tokens.\n",
        "\n",
        "    Returns:\n",
        "    - pred_token: A LongTensor of shape (batch_size, 1)\n",
        "      containing the next word predictions.\n",
        "      Each token is represented by its index in the vocabulary.\n",
        "    - h: A PyTorch tensor of shape (1, batch_size, hidden_size)\n",
        "      containing the updated RNN encoding that consumes the current input tokens.\n",
        "    \"\"\"\n",
        "    #########################################################################\n",
        "    # TODO:                                                                 #\n",
        "    # Implement the prediction phase.                                       #\n",
        "    #########################################################################\n",
        "    # Replace \"pass\" statement with your code\n",
        "    embedded = self.embedding(input_token)\n",
        "    output, h = self.rnn(embedded, h_prev)\n",
        "    pred_token = self.out(output[:, -1])\n",
        "    pred_token = torch.argmax(pred_token, dim=1, keepdim=True)\n",
        "    # END OF YOUR CODE\n",
        "    return pred_token, h"
      ],
      "id": "round-ancient"
    },
    {
      "cell_type": "markdown",
      "metadata": {
        "id": "deluxe-stretch"
      },
      "source": [
        "We now combine `EncoderRNN` and `DecoderRNN` to make a seq2seq model. You should not modify the code here."
      ],
      "id": "deluxe-stretch"
    },
    {
      "cell_type": "code",
      "execution_count": null,
      "metadata": {
        "id": "becoming-elimination"
      },
      "outputs": [],
      "source": [
        "class NMT_RNN(nn.Module):\n",
        "\n",
        "  def __init__(self, source_vocab_size, target_vocab_size, embedding_dim, hidden_size, max_pred_len):\n",
        "    super().__init__()\n",
        "\n",
        "    self.enc = EncoderRNN(source_vocab_size, embedding_dim, hidden_size)\n",
        "    self.dec = DecoderRNN(target_vocab_size, embedding_dim, hidden_size)\n",
        "    self.max_pred_len = max_pred_len\n",
        "\n",
        "\n",
        "  def forward(self, source_text, source_len, target_text, target_len):\n",
        "    # type: (Tensor, Tensor, Tensor, Tensor) -> Tensor\n",
        "    \"\"\"\n",
        "    Perform next word prediction and compute loss.\n",
        "\n",
        "    Inputs:\n",
        "    - source_text: A LongTensor of shape (batch_size, source_seq_len)\n",
        "      containing a mini-batch of source sentences padded to `source_seq_len`.\n",
        "      Each token is represented by its index in the vocabulary.\n",
        "    - source_len: A LongTensor of shape (batch_size,)\n",
        "      containing the actual length of each source sentence (before being padded).\n",
        "    - target_text: A LongTensor of shape (batch_size, target_seq_len)\n",
        "      containing a mini-batch of target sentences padded to `target_seq_len`.\n",
        "      Each token is represented by its index in the vocabulary.\n",
        "    - target_len: A LongTensor of shape (batch_size,)\n",
        "      containing the actual length of each target sentence (before being padded).\n",
        "\n",
        "    Returns:\n",
        "    - loss: A PyTorch scalar containing the loss for the mini-batch.\n",
        "    \"\"\"\n",
        "    source_hT = self.enc(source_text, source_len)\n",
        "    pred = self.dec(target_text, source_hT)\n",
        "\n",
        "    # Note that `target_text` contains many 'pad' tokens.\n",
        "    # They should be excluded when we compute the loss.\n",
        "    # To remove these 'pad' tokens, we can use `pack_padded_sequence()`.\n",
        "    # Before doing that, we need to first sort target sentences in descending length.\n",
        "    target_len, sorted_indices = torch.sort(target_len, descending=True)\n",
        "    target_text = target_text.index_select(0, sorted_indices)\n",
        "    pred = pred.index_select(0, sorted_indices)\n",
        "    target_len = target_len.cpu()\n",
        "\n",
        "    # Use `pack_padded_sequence()` to remove 'pad' tokens\n",
        "    target_text_packed = pack_padded_sequence(\n",
        "      target_text[:, 1:], target_len - 1,  # notice the shift in `target_text`\n",
        "      batch_first=True, enforce_sorted=True)\n",
        "\n",
        "    pred_packed = pack_padded_sequence(\n",
        "      pred, target_len - 1,\n",
        "      batch_first=True, enforce_sorted=True)\n",
        "\n",
        "    loss = F.cross_entropy(pred_packed.data, target_text_packed.data, ignore_index=0)\n",
        "    return loss\n",
        "\n",
        "\n",
        "  def predict(self, source_text, source_len):\n",
        "    # type: (Tensor, Tensor) -> Tensor\n",
        "    \"\"\"\n",
        "    Predict the target sentence for each source sentence.\n",
        "    The predicted word at step t will be used as input for step t+1.\n",
        "    This is different from what is done in the forward pass.\n",
        "\n",
        "    Inputs:\n",
        "    - source_text: A LongTensor of shape (batch_size, source_seq_len)\n",
        "      containing a mini-batch of source sentences padded to `source_seq_len`.\n",
        "      Each token is represented by its index in the vocabulary.\n",
        "    - source_len: A LongTensor of shape (batch_size,)\n",
        "      containing the actual length of each source sentence (before being padded).\n",
        "\n",
        "    Returns:\n",
        "    - pred: A LongTensor of shape (batch_size, max_pred_len)\n",
        "      containing the predicted target sentences.\n",
        "      Each token is represented by its index in the vocabulary.\n",
        "    \"\"\"\n",
        "    h = self.enc(source_text, source_len).unsqueeze(0)\n",
        "    input_token = torch.ones_like(source_len).view(-1, 1)  # feed in 'bos' to start\n",
        "    pred_list = []\n",
        "\n",
        "    for t in range(self.max_pred_len):  # predict up to `max_pred_len` steps\n",
        "      pred_token, h = self.dec.predict(input_token, h)\n",
        "      pred_list.append(pred_token)\n",
        "      input_token = pred_token  # use the predicted token as input for next step\n",
        "\n",
        "    pred = torch.cat(pred_list, dim=1)\n",
        "    return pred"
      ],
      "id": "becoming-elimination"
    },
    {
      "cell_type": "markdown",
      "metadata": {
        "id": "endangered-devices"
      },
      "source": [
        "### Evaluation\n",
        "\n",
        "To evaluate a trained NMT model, we use it to perform translation on some source sentences. The translation is generated by picking the most probable word predicted by the decoder at each step. We then compare the model translation with the ground truth translation, and compute the accuracy of the predicted words.\n",
        "\n",
        "Please know that we choose the evaluation protocol here for simplicity. There are better decoding techniques (e.g., beam search) and evaluation metrics (e.g., BLEU scores) that you should use in your own projects."
      ],
      "id": "endangered-devices"
    },
    {
      "cell_type": "code",
      "execution_count": null,
      "metadata": {
        "id": "transparent-malaysia"
      },
      "outputs": [],
      "source": [
        "def eval_acc(model, data_loader, num_samples=5):\n",
        "\n",
        "  with torch.no_grad():\n",
        "    model.eval()\n",
        "\n",
        "    total = 0\n",
        "    correct = 0\n",
        "\n",
        "    for batch, data in enumerate(data_loader):\n",
        "      data = [d.cuda() for d in data]\n",
        "\n",
        "      pred = model.predict(data[0], data[1])\n",
        "\n",
        "      if batch < num_samples:  # show some samples\n",
        "        source_sentence = [source_vocab.index2word[token] for token in data[0][0].tolist()]\n",
        "        target_sentence = [target_vocab.index2word[token] for token in data[2][0].tolist()]\n",
        "        pred_sentence = [target_vocab.index2word[token] for token in pred[0].tolist()]\n",
        "\n",
        "        print(f'=== Sample {batch + 1} ===')\n",
        "        print('source_sentence:', source_sentence)\n",
        "        print('target_sentence:', target_sentence)\n",
        "        print('pred_sentence:  ', pred_sentence)\n",
        "\n",
        "      target_len, sorted_indices = torch.sort(data[3], descending=True)\n",
        "      target_text = data[2].index_select(0, sorted_indices)\n",
        "      pred = pred.index_select(0, sorted_indices)\n",
        "      target_len = target_len.cpu()\n",
        "\n",
        "      target_text_packed = pack_padded_sequence(\n",
        "        target_text[:, 1:], target_len - 1,  # notice the shift in `target_text`\n",
        "        batch_first=True, enforce_sorted=True)\n",
        "\n",
        "      pred_packed = pack_padded_sequence(\n",
        "        pred, target_len - 1,\n",
        "        batch_first=True, enforce_sorted=True)\n",
        "\n",
        "      total += target_text_packed.data.shape[0]\n",
        "      correct += (pred_packed.data == target_text_packed.data).sum().item()\n",
        "\n",
        "    acc = 100 * correct / total\n",
        "\n",
        "  return acc"
      ],
      "id": "transparent-malaysia"
    },
    {
      "cell_type": "markdown",
      "metadata": {
        "id": "considered-alexander"
      },
      "source": [
        "### Training\n",
        "\n",
        "A basic training script is provided below. You can make modifications as appropriate.\n",
        "\n",
        "To get full credit, your model should **achieve at least 20% validation accuracy**."
      ],
      "id": "considered-alexander"
    },
    {
      "cell_type": "code",
      "execution_count": null,
      "metadata": {
        "id": "dental-massage"
      },
      "outputs": [],
      "source": [
        "def train(model, train_loader, val_loader, num_epochs, learning_rate, weight_decay):\n",
        "\n",
        "  optimizer = optim.Adam(model.parameters(), lr=learning_rate, weight_decay=weight_decay)\n",
        "\n",
        "  loss_history = []\n",
        "  for epoch in range(num_epochs):\n",
        "    val_acc = eval_acc(model, val_loader, num_samples=0)\n",
        "\n",
        "    model.train()\n",
        "\n",
        "    for batch, data in enumerate(train_loader):\n",
        "      data = [d.cuda() for d in data]\n",
        "\n",
        "      optimizer.zero_grad()\n",
        "      loss = model(*data)\n",
        "      loss.backward()\n",
        "      clip_grad_norm_(model.parameters(), 1)  # gradient clipping\n",
        "      optimizer.step()\n",
        "\n",
        "      with torch.no_grad():\n",
        "        loss_history.append(loss.item())\n",
        "        if batch == 0:\n",
        "          print('Train Epoch: {:3} \\t Loss: {:F} \\t Val Acc: {:F}'.format(\n",
        "            epoch, loss.item(), val_acc))\n",
        "\n",
        "  return model, loss_history"
      ],
      "id": "dental-massage"
    },
    {
      "cell_type": "code",
      "execution_count": null,
      "metadata": {
        "colab": {
          "background_save": true,
          "base_uri": "https://localhost:8080/"
        },
        "id": "sporting-hobby",
        "outputId": "0cafe6c5-acb0-4eda-b117-524726197aa2"
      },
      "outputs": [
        {
          "name": "stdout",
          "output_type": "stream",
          "text": [
            "Train Epoch:   0 \t Loss: 7.139132 \t Val Acc: 0.065113\n",
            "Train Epoch:   1 \t Loss: 3.091701 \t Val Acc: 14.125103\n",
            "Train Epoch:   2 \t Loss: 2.977227 \t Val Acc: 13.526067\n",
            "Train Epoch:   3 \t Loss: 3.002427 \t Val Acc: 13.322047\n",
            "Train Epoch:   4 \t Loss: 2.806374 \t Val Acc: 15.974302\n",
            "Train Epoch:   5 \t Loss: 2.786851 \t Val Acc: 14.320441\n",
            "Train Epoch:   6 \t Loss: 2.897576 \t Val Acc: 15.982984\n",
            "Train Epoch:   7 \t Loss: 2.880443 \t Val Acc: 15.423015\n",
            "Train Epoch:   8 \t Loss: 2.698493 \t Val Acc: 12.228155\n",
            "Train Epoch:   9 \t Loss: 2.844147 \t Val Acc: 15.331857\n",
            "Train Epoch:  10 \t Loss: 2.727236 \t Val Acc: 16.868516\n",
            "Train Epoch:  11 \t Loss: 2.794281 \t Val Acc: 17.024786\n",
            "Train Epoch:  12 \t Loss: 2.929374 \t Val Acc: 17.124626\n",
            "Train Epoch:  13 \t Loss: 3.075168 \t Val Acc: 17.680254\n",
            "Train Epoch:  14 \t Loss: 2.702314 \t Val Acc: 19.138777\n",
            "Train Epoch:  15 \t Loss: 2.800552 \t Val Acc: 19.238616\n",
            "Train Epoch:  16 \t Loss: 2.810630 \t Val Acc: 19.134436\n",
            "Train Epoch:  17 \t Loss: 2.717020 \t Val Acc: 20.289100\n",
            "Train Epoch:  18 \t Loss: 2.797256 \t Val Acc: 20.497461\n",
            "Train Epoch:  19 \t Loss: 2.956021 \t Val Acc: 20.549551\n",
            "Train Epoch:  20 \t Loss: 2.885483 \t Val Acc: 21.634761\n",
            "Train Epoch:  21 \t Loss: 2.910457 \t Val Acc: 21.313539\n",
            "Train Epoch:  22 \t Loss: 2.949232 \t Val Acc: 22.107913\n",
            "Train Epoch:  23 \t Loss: 3.006371 \t Val Acc: 22.867561\n",
            "Train Epoch:  24 \t Loss: 2.699179 \t Val Acc: 23.106307\n",
            "Train Epoch:  25 \t Loss: 2.799179 \t Val Acc: 21.695533\n",
            "Train Epoch:  26 \t Loss: 2.975086 \t Val Acc: 24.169814\n",
            "Train Epoch:  27 \t Loss: 3.021534 \t Val Acc: 22.719972\n",
            "Train Epoch:  28 \t Loss: 2.937820 \t Val Acc: 24.109042\n",
            "Train Epoch:  29 \t Loss: 2.872407 \t Val Acc: 23.918045\n",
            "Train Epoch:  30 \t Loss: 3.148418 \t Val Acc: 22.420454\n",
            "Train Epoch:  31 \t Loss: 2.929554 \t Val Acc: 22.785085\n",
            "Train Epoch:  32 \t Loss: 3.129783 \t Val Acc: 23.323349\n",
            "Train Epoch:  33 \t Loss: 3.095644 \t Val Acc: 24.512740\n",
            "Train Epoch:  34 \t Loss: 3.065188 \t Val Acc: 23.319009\n",
            "Train Epoch:  35 \t Loss: 3.123328 \t Val Acc: 23.557755\n",
            "Train Epoch:  36 \t Loss: 2.958548 \t Val Acc: 24.404219\n",
            "Train Epoch:  37 \t Loss: 3.164519 \t Val Acc: 23.987498\n",
            "Train Epoch:  38 \t Loss: 2.915612 \t Val Acc: 24.543126\n",
            "Train Epoch:  39 \t Loss: 3.263621 \t Val Acc: 24.755828\n",
            "Train Epoch:  40 \t Loss: 2.878064 \t Val Acc: 23.583800\n",
            "Train Epoch:  41 \t Loss: 2.864664 \t Val Acc: 24.291357\n",
            "Train Epoch:  42 \t Loss: 2.996088 \t Val Acc: 24.551808\n",
            "Train Epoch:  43 \t Loss: 3.135590 \t Val Acc: 24.326084\n",
            "Train Epoch:  44 \t Loss: 2.950444 \t Val Acc: 25.016278\n",
            "Train Epoch:  45 \t Loss: 3.062748 \t Val Acc: 24.334766\n",
            "Train Epoch:  46 \t Loss: 2.974614 \t Val Acc: 24.421583\n",
            "Train Epoch:  47 \t Loss: 3.140028 \t Val Acc: 24.881712\n",
            "Train Epoch:  48 \t Loss: 2.965328 \t Val Acc: 24.239267\n",
            "Train Epoch:  49 \t Loss: 3.116884 \t Val Acc: 23.861614\n"
          ]
        }
      ],
      "source": [
        "torch.manual_seed(0)\n",
        "\n",
        "batch_size = 40\n",
        "num_epochs = 50\n",
        "learning_rate = 0.001  # TODO\n",
        "weight_decay = 0.001  # TODO\n",
        "\n",
        "embedding_dim = 256*2\n",
        "hidden_size = 256*2\n",
        "\n",
        "source_vocab, target_vocab, train_loader, val_loader = get_data_loader(\n",
        "  source_text, target_text, batch_size)\n",
        "model = NMT_RNN(source_vocab.size, target_vocab.size, embedding_dim, hidden_size, MAX_LEN + 1)\n",
        "model = model.cuda()\n",
        "\n",
        "model, loss_history = train(model, train_loader, val_loader, num_epochs, learning_rate, weight_decay)"
      ],
      "id": "sporting-hobby"
    },
    {
      "cell_type": "code",
      "execution_count": null,
      "metadata": {
        "colab": {
          "background_save": true
        },
        "id": "settled-victorian",
        "outputId": "40dc79ba-bd94-4384-e9e6-bcf11804ab21"
      },
      "outputs": [
        {
          "data": {
            "image/png": "[encoded data removed]",
            "text/plain": [
              "<Figure size 1000x800 with 1 Axes>"
            ]
          },
          "metadata": {},
          "output_type": "display_data"
        }
      ],
      "source": [
        "plt.plot(loss_history, 'o')\n",
        "plt.xlabel('Iteration number')\n",
        "plt.ylabel('Loss value')\n",
        "plt.show()"
      ],
      "id": "settled-victorian"
    },
    {
      "cell_type": "code",
      "execution_count": null,
      "metadata": {
        "colab": {
          "background_save": true
        },
        "id": "sized-month",
        "outputId": "67605ede-64c5-4c85-e9b8-9d79b72366b8"
      },
      "outputs": [
        {
          "name": "stdout",
          "output_type": "stream",
          "text": [
            "=== Sample 1 ===\n",
            "source_sentence: ['il', 'se', 'pourrait', 'que', 'tu', 'veuilles', 'unk', 'un', 'il', 'a', 'ceci', '.', 'pad', 'pad', 'pad', 'pad']\n",
            "target_sentence: ['bos', 'you', 'might', 'want', 'to', 'take', 'a', 'look', 'at', 'this', '.', 'eos', 'pad', 'pad', 'pad', 'pad', 'pad', 'pad']\n",
            "pred_sentence:   ['you', 're', 'not', 'to', 'be', 'a', 'unk', 'unk', '.', 'eos', '.', 'eos', '.', 'eos', '.', 'eos', '.']\n",
            "=== Sample 2 ===\n",
            "source_sentence: ['combien', 'd', 'heures', 'unk', 'unk', 'tu', 'dans', 'ton', 'bureau', '?', 'pad', 'pad', 'pad', 'pad', 'pad', 'pad']\n",
            "target_sentence: ['bos', 'how', 'many', 'hours', 'a', 'day', 'do', 'you', 'spend', 'in', 'your', 'office', '?', 'eos', 'pad', 'pad', 'pad', 'pad']\n",
            "pred_sentence:   ['how', 'many', 'unk', 'you', 'have', 'a', 'unk', 'unk', '?', 'eos', '?', 'eos', '?', 'eos', 'you', 'do', '?']\n",
            "=== Sample 3 ===\n",
            "source_sentence: ['je', 'veux', 'm', 'assurer', 'que', 'tu', 'es', 'celui', 'que', 'tu', 'dis', 'etre', '.', 'pad', 'pad', 'pad']\n",
            "target_sentence: ['bos', 'i', 'want', 'to', 'make', 'sure', 'you', 'are', 'who', 'you', 'say', 'you', 'are', '.', 'eos', 'pad', 'pad', 'pad']\n",
            "pred_sentence:   ['i', 'want', 'to', 'know', 'what', 'you', 're', 'not', '.', 'eos', '.', 'eos', '.', 'eos', '.', 'eos', '.']\n",
            "=== Sample 4 ===\n",
            "source_sentence: ['je', 'me', 'sens', 'tellement', 'heureux', 'lorsque', 'je', 'suis', 'avec', 'toi', '.', 'pad', 'pad', 'pad', 'pad', 'pad']\n",
            "target_sentence: ['bos', 'i', 'feel', 'so', 'happy', 'when', 'i', 'm', 'with', 'you', '.', 'eos', 'pad', 'pad', 'pad', 'pad', 'pad', 'pad']\n",
            "pred_sentence:   ['i', 'm', 'unk', 'to', 'you', 'to', 'tell', 'me', '.', 'eos', '.', 'eos', '.', 'eos', '.', 'eos', '.']\n",
            "=== Sample 5 ===\n",
            "source_sentence: ['je', 'ne', 'me', 'sens', 'pas', 'faire', 'quoi', 'que', 'ce', 'soit', 'ce', 'soir', '.', 'pad', 'pad', 'pad']\n",
            "target_sentence: ['bos', 'i', 'don', 't', 'feel', 'like', 'doing', 'anything', 'tonight', '.', 'eos', 'pad', 'pad', 'pad', 'pad', 'pad', 'pad', 'pad']\n",
            "pred_sentence:   ['i', 'm', 'not', 'sure', 'i', 'm', 'not', 'to', '.', 'eos', '.', 'eos', '.', 'eos', '.', 'eos', '.']\n",
            "Training Accuracy: 25.269543965135014\n"
          ]
        }
      ],
      "source": [
        "train_acc = eval_acc(model, train_loader)\n",
        "print('Training Accuracy:', train_acc)"
      ],
      "id": "sized-month"
    },
    {
      "cell_type": "code",
      "execution_count": null,
      "metadata": {
        "colab": {
          "background_save": true
        },
        "id": "c2435abf",
        "outputId": "6c04e8ee-092e-471b-a4ef-e23f77183db5"
      },
      "outputs": [
        {
          "name": "stdout",
          "output_type": "stream",
          "text": [
            "=== Sample 1 ===\n",
            "source_sentence: ['il', 'est', 'temps', 'de', 'se', 'unk', 'sur', 'les', 'affaires', '.', 'pad', 'pad', 'pad', 'pad', 'pad', 'pad']\n",
            "target_sentence: ['bos', 'it', 's', 'time', 'to', 'get', 'down', 'to', 'business', '.', 'eos', 'pad', 'pad', 'pad', 'pad', 'pad', 'pad', 'pad']\n",
            "pred_sentence:   ['it', 'is', 'unk', 'to', 'unk', 'the', 'unk', 'unk', '.', 'eos', '.', 'eos', '.', 'eos', '.', 'eos', '.']\n",
            "=== Sample 2 ===\n",
            "source_sentence: ['pour', 'conduire', 'une', 'voiture', 'on', 'a', 'besoin', 'd', 'un', 'permis', '.', 'pad', 'pad', 'pad', 'pad', 'pad']\n",
            "target_sentence: ['bos', 'to', 'drive', 'a', 'car', 'you', 'need', 'a', 'license', '.', 'eos', 'pad', 'pad', 'pad', 'pad', 'pad', 'pad', 'pad']\n",
            "pred_sentence:   ['unk', 'of', 'unk', 'unk', 'is', 'a', 'unk', 'unk', '.', 'eos', '.', 'eos', '.', 'eos', '.', 'eos', '.']\n",
            "=== Sample 3 ===\n",
            "source_sentence: ['j', 'unk', 'regarder', 'des', 'unk', 'qui', 'me', 'unk', 'a', 'reflechir', '.', 'pad', 'pad', 'pad', 'pad', 'pad']\n",
            "target_sentence: ['bos', 'i', 'love', 'watching', 'movies', 'that', 'make', 'me', 'think', '.', 'eos', 'pad', 'pad', 'pad', 'pad', 'pad', 'pad', 'pad']\n",
            "pred_sentence:   ['i', 'd', 'like', 'a', 'unk', 'to', 'me', 'to', 'the', 'unk', '.', 'eos', '.', 'eos', '.', 'eos', '.']\n",
            "=== Sample 4 ===\n",
            "source_sentence: ['tu', 'es', 'la', 'premiere', 'personne', 'a', 'qui', 'j', 'ai', 'dit', 'ca', '.', 'pad', 'pad', 'pad', 'pad']\n",
            "target_sentence: ['bos', 'you', 're', 'the', 'first', 'person', 'i', 'told', 'that', 'to', '.', 'eos', 'pad', 'pad', 'pad', 'pad', 'pad', 'pad']\n",
            "pred_sentence:   ['you', 're', 'the', 'unk', 'thing', 'i', 've', 'ever', '.', 'eos', '.', 'eos', '.', 'eos', '.', 'eos', '.']\n",
            "=== Sample 5 ===\n",
            "source_sentence: ['il', 'a', 'beaucoup', 'plus', 'd', 'argent', 'que', 'moi', '.', 'pad', 'pad', 'pad', 'pad', 'pad', 'pad', 'pad']\n",
            "target_sentence: ['bos', 'he', 'has', 'a', 'lot', 'more', 'money', 'than', 'i', 'have', '.', 'eos', 'pad', 'pad', 'pad', 'pad', 'pad', 'pad']\n",
            "pred_sentence:   ['he', 'unk', 'a', 'unk', 'of', 'the', 'unk', '.', 'eos', 'is', 'not', '.', 'eos', '.', 'eos', '.', 'eos']\n",
            "Validation Accuracy: 25.033641533185744\n"
          ]
        }
      ],
      "source": [
        "val_acc = eval_acc(model, val_loader)\n",
        "print('Validation Accuracy:', val_acc)"
      ],
      "id": "c2435abf"
    },
    {
      "cell_type": "markdown",
      "metadata": {
        "id": "ff7a8249"
      },
      "source": [
        "The following grading cells will assign partial credit based on the validation accuracy. Please do not remove.\n",
        "- ${\\geq} 20\\%$: 15 points\n",
        "- $15\\% {\\sim} 20\\%$: 10 points\n",
        "- $10\\% {\\sim} 15\\%$: 5 points\n",
        "- ${<} 10\\%$: no credit"
      ],
      "id": "ff7a8249"
    },
    {
      "cell_type": "code",
      "execution_count": null,
      "metadata": {
        "colab": {
          "background_save": true
        },
        "id": "a82fa6db"
      },
      "outputs": [],
      "source": [
        "# Grading cell. Do not remove."
      ],
      "id": "a82fa6db"
    },
    {
      "cell_type": "code",
      "execution_count": null,
      "metadata": {
        "colab": {
          "background_save": true
        },
        "id": "5f35c084"
      },
      "outputs": [],
      "source": [
        "# Grading cell. Do not remove."
      ],
      "id": "5f35c084"
    },
    {
      "cell_type": "code",
      "execution_count": null,
      "metadata": {
        "colab": {
          "background_save": true
        },
        "id": "ba4aba30"
      },
      "outputs": [],
      "source": [
        "# Grading cell. Do not remove."
      ],
      "id": "ba4aba30"
    },
    {
      "cell_type": "markdown",
      "metadata": {
        "id": "cleared-heavy"
      },
      "source": [
        "## LSTMs (15 points)\n",
        "\n",
        "Vanilla RNNs are known to have vanishing gradient issues, which have been mitigated by LSTMs. Hence, replacing the RNNs in seq2seq models with LSTMs will probably improve performance. In this section, we will implement LSTMs from scratch."
      ],
      "id": "cleared-heavy"
    },
    {
      "cell_type": "markdown",
      "metadata": {
        "id": "technological-knight"
      },
      "source": [
        "Let us first implement the single-step LSTM update. We will be replicating the functionality of [`nn.LSTMCell`](https://pytorch.org/docs/stable/generated/torch.nn.LSTMCell.html?highlight=lstmcell#torch.nn.LSTMCell). Please refer to the documentation for more details. Note that for efficiency, the weights to be multiplied by the input are combined into a single weight matrix `weight_ih`, the weights to be multiplied by the previous hidden state are combined into `weight_hh`, and the biases are combined into a single vector `bias`. You are NOT allowed to use `nn.LSTMCell` or `nn.LSTM` in your implementation. For weight initialization, you can try [`nn.init.xavier_uniform_()`](https://pytorch.org/docs/stable/nn.init.html?highlight=xavier#torch.nn.init.xavier_uniform_) and [`nn.init.orthogonal_()`](https://pytorch.org/docs/stable/nn.init.html?highlight=orthogonal#torch.nn.init.orthogonal_). As suggested in this [post](https://danijar.com/tips-for-training-recurrent-neural-networks/), you may also initialize the forget gate bias to 1 so that the LSTM remembers more information by default."
      ],
      "id": "technological-knight"
    },
    {
      "cell_type": "code",
      "execution_count": null,
      "metadata": {
        "colab": {
          "background_save": true
        },
        "id": "blind-racing"
      },
      "outputs": [],
      "source": [
        "class LSTMCell(nn.Module):\n",
        "\n",
        "  def __init__(self, input_size, hidden_size):\n",
        "    super().__init__()\n",
        "\n",
        "    self.input_size = input_size\n",
        "    self.hidden_size = hidden_size\n",
        "\n",
        "    # Learnable parameters\n",
        "    self.weight_ih = nn.Parameter(torch.Tensor(4 * self.hidden_size, self.input_size))\n",
        "    self.weight_hh = nn.Parameter(torch.Tensor(4 * self.hidden_size, self.hidden_size))\n",
        "    self.bias = nn.Parameter(torch.Tensor(4 * self.hidden_size))\n",
        "\n",
        "    self.init_params()\n",
        "\n",
        "\n",
        "  def init_params(self):\n",
        "    #########################################################################\n",
        "    # TODO:                                                                 #\n",
        "    # Properly initialize the learnable parameters.                         #\n",
        "    # This function should not have a \"return\" statement.                   #\n",
        "    # You may use built-in functions in `torch.nn.init`.                    #\n",
        "    #########################################################################\n",
        "    # Replace \"pass\" statement with your code\n",
        "    pass\n",
        "    # END OF YOUR CODE\n",
        "\n",
        "\n",
        "  def forward(self, input, state):\n",
        "    # type: (Tensor, Tuple[Tensor, Tensor]) -> Tuple[Tensor, Tensor]\n",
        "    \"\"\"\n",
        "    Inputs:\n",
        "    - input: A PyTorch tensor of shape (batch_size, input_size)\n",
        "      containing a mini-batch of input features.\n",
        "    - state: A tuple of hidden state and cell state from the previous step,\n",
        "      both of which are PyTorch tensors of shape (batch_size, hidden_size).\n",
        "      You may assume that `state` is not None.\n",
        "\n",
        "    Returns:\n",
        "    - hy: A PyTorch tensor of shape (batch_size, hidden_size)\n",
        "      containing the updated hidden state at the current step.\n",
        "    - cy: A PyTorch tensor of shape (batch_size, hidden_size)\n",
        "      containing the updated cell state at the current step.\n",
        "\n",
        "    For more details, check `torch.nn.LSTMCell`.\n",
        "    \"\"\"\n",
        "    hx, cx = state\n",
        "    #########################################################################\n",
        "    # TODO:                                                                 #\n",
        "    # Implement the forward pass.                                           #\n",
        "    #########################################################################\n",
        "    # Replace \"pass\" statement with your code\n",
        "    gates = input @ self.weight_ih.t() + hx @ self.weight_hh.t() + self.bias\n",
        "    i_gate, f_gate, c_tilde, o_gate = gates.chunk(4, 1)\n",
        "    i_gate = torch.sigmoid(i_gate)\n",
        "    f_gate = torch.sigmoid(f_gate)\n",
        "    c_tilde = torch.tanh(c_tilde)\n",
        "    o_gate = torch.sigmoid(o_gate)\n",
        "    cy = f_gate * cx + i_gate * c_tilde\n",
        "    hy = o_gate * torch.tanh(cy)\n",
        "    # END OF YOUR CODE\n",
        "    return hy, cy"
      ],
      "id": "blind-racing"
    },
    {
      "cell_type": "markdown",
      "metadata": {
        "id": "proper-monthly"
      },
      "source": [
        "We will use the following helper functions to check your results:"
      ],
      "id": "proper-monthly"
    },
    {
      "cell_type": "code",
      "execution_count": null,
      "metadata": {
        "colab": {
          "background_save": true
        },
        "id": "corporate-buyer"
      },
      "outputs": [],
      "source": [
        "def max_diff(actual, expected):\n",
        "  return (actual - expected).abs().max().item()"
      ],
      "id": "corporate-buyer"
    },
    {
      "cell_type": "code",
      "execution_count": null,
      "metadata": {
        "colab": {
          "background_save": true
        },
        "id": "simple-indianapolis"
      },
      "outputs": [],
      "source": [
        "def check_lstm_cell(batch_size, input_size, hidden_size):\n",
        "\n",
        "  torch.manual_seed(0)\n",
        "  torch_lstm_cell = nn.LSTMCell(input_size, hidden_size)\n",
        "  lstm_cell = LSTMCell(input_size, hidden_size)\n",
        "\n",
        "  lstm_cell.weight_ih.data = torch_lstm_cell.weight_ih.data\n",
        "  lstm_cell.weight_hh.data = torch_lstm_cell.weight_hh.data\n",
        "  lstm_cell.bias.data = torch_lstm_cell.bias_ih.data + torch_lstm_cell.bias_hh.data\n",
        "\n",
        "  input = torch.empty(batch_size, input_size).normal_()\n",
        "  state = torch.empty(batch_size, 2 * hidden_size).normal_().chunk(2, 1)\n",
        "\n",
        "  (hy_expected, cy_expected) = torch_lstm_cell(input, state)\n",
        "  (hy_actual, cy_actual) = lstm_cell(input, state)\n",
        "\n",
        "  assert hy_actual.shape == hy_expected.shape, 'incorrect hy shape'\n",
        "  assert cy_actual.shape == cy_expected.shape, 'incorrect cy shape'\n",
        "\n",
        "  hy_diff = max_diff(hy_actual, hy_expected)\n",
        "  cy_diff = max_diff(cy_actual, cy_expected)\n",
        "\n",
        "  print('hy_diff = %e' % hy_diff)\n",
        "  print('cy_diff = %e' % cy_diff)\n",
        "  assert hy_diff < 1e-5, 'incorrect hy'\n",
        "  assert cy_diff < 1e-5, 'incorrect cy'"
      ],
      "id": "simple-indianapolis"
    },
    {
      "cell_type": "code",
      "execution_count": null,
      "metadata": {
        "colab": {
          "background_save": true
        },
        "id": "33a69014",
        "outputId": "c9c9f9bd-d793-4eb8-bf8b-4427974e7fba"
      },
      "outputs": [
        {
          "name": "stdout",
          "output_type": "stream",
          "text": [
            "hy_diff = 7.450581e-09\n",
            "cy_diff = 1.490116e-08\n"
          ]
        }
      ],
      "source": [
        "check_lstm_cell(batch_size=1, input_size=1, hidden_size=1)"
      ],
      "id": "33a69014"
    },
    {
      "cell_type": "code",
      "execution_count": null,
      "metadata": {
        "colab": {
          "background_save": true
        },
        "id": "2dc9357e",
        "outputId": "851b067a-8871-4f22-8aeb-23b5926a97f9"
      },
      "outputs": [
        {
          "name": "stdout",
          "output_type": "stream",
          "text": [
            "hy_diff = 2.980232e-08\n",
            "cy_diff = 2.980232e-08\n"
          ]
        }
      ],
      "source": [
        "check_lstm_cell(batch_size=1, input_size=1, hidden_size=64)"
      ],
      "id": "2dc9357e"
    },
    {
      "cell_type": "code",
      "execution_count": null,
      "metadata": {
        "colab": {
          "background_save": true
        },
        "id": "449fabd1",
        "outputId": "6590c289-22cf-4435-d28f-34b73a936623"
      },
      "outputs": [
        {
          "name": "stdout",
          "output_type": "stream",
          "text": [
            "hy_diff = 1.490116e-08\n",
            "cy_diff = 1.192093e-07\n"
          ]
        }
      ],
      "source": [
        "check_lstm_cell(batch_size=1, input_size=64, hidden_size=64)"
      ],
      "id": "449fabd1"
    },
    {
      "cell_type": "code",
      "execution_count": null,
      "metadata": {
        "colab": {
          "background_save": true
        },
        "id": "metric-louisiana",
        "outputId": "b70f9b54-c4a0-4427-949d-17f254ae648e"
      },
      "outputs": [
        {
          "name": "stdout",
          "output_type": "stream",
          "text": [
            "hy_diff = 1.192093e-07\n",
            "cy_diff = 1.788139e-07\n"
          ]
        }
      ],
      "source": [
        "check_lstm_cell(batch_size=8, input_size=64, hidden_size=64)"
      ],
      "id": "metric-louisiana"
    },
    {
      "cell_type": "markdown",
      "metadata": {
        "id": "taken-minority"
      },
      "source": [
        "Now that we have implemented the single-step update, we can apply it iteratively to a sequence of inputs and obtain the hidden states at each step. Please implement the `LSTM` class below, which contains `LSTMCell` as a submodule. You are NOT allowed to use `nn.LSTMCell` or `nn.LSTM` in your implementation.\n",
        "\n",
        "You are encouraged (but not required) to develop an efficient implementation, in which the padding tokens are skipped and not fed to the `LSTMCell`. This can save computation by ~25% on our dataset, assuming the sentence length has a uniform distribution. Check this [tutorial](https://github.com/sgrvinod/a-PyTorch-Tutorial-to-Image-Captioning#decoder-1) for an illustration."
      ],
      "id": "taken-minority"
    },
    {
      "cell_type": "code",
      "execution_count": null,
      "metadata": {
        "colab": {
          "background_save": true
        },
        "id": "unavailable-funeral"
      },
      "outputs": [],
      "source": [
        "class LSTM(nn.Module):\n",
        "\n",
        "  def __init__(self, input_size, hidden_size):\n",
        "    super().__init__()\n",
        "\n",
        "    self.input_size = input_size\n",
        "    self.hidden_size = hidden_size\n",
        "\n",
        "    self.lstm_cell = LSTMCell(self.input_size, self.hidden_size)\n",
        "\n",
        "\n",
        "  def forward(self, input, input_len, init_state):\n",
        "    # type: (Tensor, Tensor, Tuple[Tensor, Tensor]) -> Tuple[Tensor, Tuple[Tensor, Tensor]]\n",
        "    \"\"\"\n",
        "    Inputs:\n",
        "    - input: A PyTorch tensor of shape (batch_size, max_seq_len, input_size)\n",
        "      containing a mini-batch of sequences padded to `max_seq_len`.\n",
        "    - input_len: A LongTensor of shape (batch_size,)\n",
        "      containing the actual length of each sequence (before being padded).\n",
        "    - init_state: A tuple of initial hidden state and cell state,\n",
        "      both of which are PyTorch tensors of shape (batch_size, hidden_size).\n",
        "      You may assume that `init_state` is not None.\n",
        "\n",
        "    Returns:\n",
        "    - hidden_states: A PyTorch tensor of shape (batch_size, max_seq_len, hidden_size)\n",
        "      containing the hidden state `ht` at each step t.\n",
        "    - hT: A PyTorch tensor of shape (batch_size, hidden_size)\n",
        "      containing the hidden state at the end of each sequence\n",
        "      (i.e., `hT` encodes all tokens before the padding tokens).\n",
        "    - cT: A PyTorch tensor of shape (batch_size, hidden_size)\n",
        "      containing the cell state at the end of each sequence\n",
        "      (i.e., `cT` encodes all tokens before the padding tokens).\n",
        "    \"\"\"\n",
        "    h, c = init_state\n",
        "    #########################################################################\n",
        "    # TODO:                                                                 #\n",
        "    # Implement the forward pass.                                           #\n",
        "    #########################################################################\n",
        "    # Replace \"pass\" statement with your code\n",
        "    batch_size, max_seq_len, input_size = input.size()\n",
        "    temp = (batch_size, max_seq_len, self.hidden_size)\n",
        "    hidden_states = torch.zeros(temp)\n",
        "    c_states = torch.zeros(temp)\n",
        "    for i in range(max_seq_len):\n",
        "      mask_i = i < input_len\n",
        "      x_i = input[:, i, :]\n",
        "      h, c = self.lstm_cell(x_i, (h, c))\n",
        "      hidden_states[:, i, :] = h\n",
        "      c_states[:, i, :] = c\n",
        "      hidden_states[:, i, :] = hidden_states[:, i, :]*mask_i.unsqueeze(-1)\n",
        "      c_states[:, i, :] = c_states[:, i, :] * mask_i.unsqueeze(-1)\n",
        "    hT = hidden_states[torch.arange(batch_size), input_len-1, :]\n",
        "    cT = c_states[torch.arange(batch_size), input_len-1, :]\n",
        "    # END OF YOUR CODE\n",
        "    return hidden_states, (hT, cT)"
      ],
      "id": "unavailable-funeral"
    },
    {
      "cell_type": "markdown",
      "metadata": {
        "id": "drawn-support"
      },
      "source": [
        "We will use the following helper function to check your results:"
      ],
      "id": "drawn-support"
    },
    {
      "cell_type": "code",
      "execution_count": null,
      "metadata": {
        "colab": {
          "background_save": true
        },
        "id": "micro-walter"
      },
      "outputs": [],
      "source": [
        "def check_lstm(batch_size, max_seq_len, input_size, hidden_size):\n",
        "\n",
        "  torch.manual_seed(0)\n",
        "  torch_lstm = nn.LSTM(input_size, hidden_size, batch_first=True)\n",
        "  lstm = LSTM(input_size, hidden_size)\n",
        "\n",
        "  lstm.lstm_cell.weight_ih.data = torch_lstm.weight_ih_l0.data\n",
        "  lstm.lstm_cell.weight_hh.data = torch_lstm.weight_hh_l0.data\n",
        "  lstm.lstm_cell.bias.data = torch_lstm.bias_ih_l0.data + torch_lstm.bias_hh_l0.data\n",
        "\n",
        "  input = torch.empty(batch_size, max_seq_len, input_size).normal_()\n",
        "  input_len = torch.randint(1, max_seq_len + 1, (batch_size,))\n",
        "  init_state = torch.zeros(batch_size, 2 * hidden_size).chunk(2, 1)\n",
        "\n",
        "  input_packed = pack_padded_sequence(\n",
        "    input, input_len, batch_first=True, enforce_sorted=False)\n",
        "\n",
        "  hidden_states_expected_packed, (hT_expected, cT_expected) = torch_lstm(input_packed)\n",
        "\n",
        "  hidden_states_actual, (hT_actual, cT_actual) = lstm(input, input_len, init_state)\n",
        "\n",
        "  assert hidden_states_actual.shape == (batch_size, max_seq_len, hidden_size), 'incorrect hidden_states shape'\n",
        "  assert hT_actual.shape == (batch_size, hidden_size), 'incorrect hT shape'\n",
        "  assert cT_actual.shape == (batch_size, hidden_size), 'incorrect cT shape'\n",
        "\n",
        "  input_len = input_len.index_select(0, input_packed.sorted_indices)\n",
        "  hidden_states_actual = hidden_states_actual.index_select(0, input_packed.sorted_indices)\n",
        "  hidden_states_actual_packed = pack_padded_sequence(\n",
        "    hidden_states_actual, input_len, batch_first=True, enforce_sorted=True)\n",
        "\n",
        "  hidden_states_diff = max_diff(\n",
        "    hidden_states_actual_packed.data,\n",
        "    hidden_states_expected_packed.data)\n",
        "\n",
        "  hT_diff = max_diff(hT_actual, hT_expected)\n",
        "  cT_diff = max_diff(cT_actual, cT_expected)\n",
        "\n",
        "  print('hidden_states_diff = %e' % hidden_states_diff)\n",
        "  print('hT_diff = %e' % hT_diff)\n",
        "  print('cT_diff = %e' % cT_diff)\n",
        "  assert hidden_states_diff < 1e-5, 'incorrect hidden_states'\n",
        "  assert hT_diff < 1e-5, 'incorrect hT'\n",
        "  assert cT_diff < 1e-5, 'incorrect cT'"
      ],
      "id": "micro-walter"
    },
    {
      "cell_type": "code",
      "execution_count": null,
      "metadata": {
        "colab": {
          "background_save": true
        },
        "id": "dd896a94",
        "outputId": "056368b7-b831-4244-916a-dd9e8d095736"
      },
      "outputs": [
        {
          "name": "stdout",
          "output_type": "stream",
          "text": [
            "hidden_states_diff = 0.000000e+00\n",
            "hT_diff = 0.000000e+00\n",
            "cT_diff = 0.000000e+00\n"
          ]
        }
      ],
      "source": [
        "check_lstm(batch_size=1, max_seq_len=1, input_size=1, hidden_size=1)"
      ],
      "id": "dd896a94"
    },
    {
      "cell_type": "code",
      "execution_count": null,
      "metadata": {
        "colab": {
          "background_save": true
        },
        "id": "747ced91",
        "outputId": "2ae8e785-6811-42ae-830b-ebeffa7aaaed"
      },
      "outputs": [
        {
          "name": "stdout",
          "output_type": "stream",
          "text": [
            "hidden_states_diff = 0.000000e+00\n",
            "hT_diff = 0.000000e+00\n",
            "cT_diff = 0.000000e+00\n"
          ]
        }
      ],
      "source": [
        "check_lstm(batch_size=1, max_seq_len=16, input_size=1, hidden_size=1)"
      ],
      "id": "747ced91"
    },
    {
      "cell_type": "code",
      "execution_count": null,
      "metadata": {
        "colab": {
          "background_save": true
        },
        "id": "ca053d4a",
        "outputId": "f3973d87-20b1-4648-88a8-4bd45df01bd7"
      },
      "outputs": [
        {
          "name": "stdout",
          "output_type": "stream",
          "text": [
            "hidden_states_diff = 2.048910e-08\n",
            "hT_diff = 3.725290e-09\n",
            "cT_diff = 2.980232e-08\n"
          ]
        }
      ],
      "source": [
        "check_lstm(batch_size=8, max_seq_len=16, input_size=1, hidden_size=1)"
      ],
      "id": "ca053d4a"
    },
    {
      "cell_type": "code",
      "execution_count": null,
      "metadata": {
        "colab": {
          "background_save": true
        },
        "id": "medical-automation",
        "outputId": "b4d8b193-eb9c-444c-f596-8ffc8d54bbeb"
      },
      "outputs": [
        {
          "name": "stdout",
          "output_type": "stream",
          "text": [
            "hidden_states_diff = 2.030283e-07\n",
            "hT_diff = 2.030283e-07\n",
            "cT_diff = 2.682209e-07\n"
          ]
        }
      ],
      "source": [
        "check_lstm(batch_size=8, max_seq_len=16, input_size=64, hidden_size=64)"
      ],
      "id": "medical-automation"
    },
    {
      "cell_type": "markdown",
      "metadata": {
        "id": "revised-reservoir"
      },
      "source": [
        "## Sequence to Sequence with LSTMs (25 points)\n",
        "\n",
        "Now let us implement a seq2seq model with both the encoder and the decoder being LSTMs."
      ],
      "id": "revised-reservoir"
    },
    {
      "cell_type": "markdown",
      "metadata": {
        "id": "accepted-client"
      },
      "source": [
        "Implement `EncoderLSTM` and `DecoderLSTM` below. You may use PyTorch's built-in LSTMs or what you have implemented above."
      ],
      "id": "accepted-client"
    },
    {
      "cell_type": "code",
      "execution_count": null,
      "metadata": {
        "colab": {
          "background_save": true
        },
        "id": "pharmaceutical-shift"
      },
      "outputs": [],
      "source": [
        "class EncoderLSTM(nn.Module):\n",
        "\n",
        "  def __init__(self, vocab_size, embedding_dim, hidden_size):\n",
        "    super().__init__()\n",
        "    #########################################################################\n",
        "    # TODO:                                                                 #\n",
        "    # Set up the encoder components.                                        #\n",
        "    #########################################################################\n",
        "    # Replace \"pass\" statement with your code\n",
        "    self.embedding = nn.Embedding(vocab_size, embedding_dim)\n",
        "    self.lstm = nn.LSTM(embedding_dim, hidden_size, batch_first=True)\n",
        "    # END OF YOUR CODE\n",
        "\n",
        "\n",
        "  def forward(self, source_text, source_len):\n",
        "    # type: (Tensor, Tensor) -> Tuple[Tensor, Tuple[Tensor, Tensor]]\n",
        "    \"\"\"\n",
        "    Inputs:\n",
        "    - source_text: A LongTensor of shape (batch_size, source_seq_len)\n",
        "      containing a mini-batch of source sentences padded to `source_seq_len`.\n",
        "      Each token is represented by its index in the vocabulary.\n",
        "    - source_len: A LongTensor of shape (batch_size,)\n",
        "      containing the actual length of each source sentence (before being padded).\n",
        "\n",
        "    Returns:\n",
        "    - hidden_states: A PyTorch tensor of shape (batch_size, source_seq_len, hidden_size)\n",
        "      containing the LSTM hidden state `ht` at each step t of the source sentences.\n",
        "    - hT: A PyTorch tensor of shape (batch_size, hidden_size)\n",
        "      containing the LSTM hidden state at the end of each source sentence\n",
        "      (i.e., `hT` encodes all tokens before the padding tokens).\n",
        "    - cT: A PyTorch tensor of shape (batch_size, hidden_size)\n",
        "      containing the LSTM cell state at the end of each source sentence\n",
        "      (i.e., `cT` encodes all tokens before the padding tokens).\n",
        "    \"\"\"\n",
        "    #########################################################################\n",
        "    # TODO:                                                                 #\n",
        "    # Implement the forward pass.                                           #\n",
        "    #########################################################################\n",
        "    # Replace \"pass\" statement with your code\n",
        "    embedded = self.embedding(source_text)\n",
        "    packed_embedded = nn.utils.rnn.pack_padded_sequence(embedded, source_len.cpu(), batch_first=True, enforce_sorted=False)\n",
        "    packed_output, (hT, cT) = self.lstm(packed_embedded)\n",
        "    hidden_states, _ = nn.utils.rnn.pad_packed_sequence(packed_output, batch_first=True)\n",
        "    hT = hT.squeeze(0)\n",
        "    cT = cT.squeeze(0)\n",
        "    # END OF YOUR CODE\n",
        "    return hidden_states, (hT, cT)"
      ],
      "id": "pharmaceutical-shift"
    },
    {
      "cell_type": "code",
      "execution_count": null,
      "metadata": {
        "colab": {
          "background_save": true
        },
        "id": "prostate-southeast"
      },
      "outputs": [],
      "source": [
        "class DecoderLSTM(nn.Module):\n",
        "\n",
        "  def __init__(self, vocab_size, embedding_dim, hidden_size):\n",
        "    super().__init__()\n",
        "    #########################################################################\n",
        "    # TODO:                                                                 #\n",
        "    # Set up the decoder components.                                        #\n",
        "    #########################################################################\n",
        "    # Replace \"pass\" statement with your code\n",
        "    self.vocab_size = vocab_size\n",
        "    self.embedding = nn.Embedding(vocab_size, embedding_dim)\n",
        "    self.lstm = nn.LSTM(embedding_dim, hidden_size, batch_first=True)\n",
        "    self.f = nn.Linear(hidden_size, vocab_size)\n",
        "    # END OF YOUR CODE\n",
        "\n",
        "\n",
        "  def forward(self, target_text, target_len, source_last_state):\n",
        "    # type: (Tensor, Tensor, Tuple[Tensor, Tensor]) -> Tensor\n",
        "    \"\"\"\n",
        "    Perform next word prediction and compute loss.\n",
        "\n",
        "    Inputs:\n",
        "    - target_text: A LongTensor of shape (batch_size, target_seq_len)\n",
        "      containing a mini-batch of target sentences padded to `target_seq_len`.\n",
        "      Each token is represented by its index in the vocabulary.\n",
        "    - target_len: A LongTensor of shape (batch_size,)\n",
        "      containing the actual length of each target sentence (before being padded).\n",
        "    - source_last_state: A tuple of hidden state and cell state at the end of\n",
        "      each source sentence, both of shape (batch_size, hidden_size).\n",
        "\n",
        "    Returns:\n",
        "    - loss: A PyTorch scalar containing the loss for the mini-batch.\n",
        "    \"\"\"\n",
        "    #########################################################################\n",
        "    # TODO:                                                                 #\n",
        "    # Implement the forward pass.                                           #\n",
        "    #########################################################################\n",
        "    # Replace \"pass\" statement with your code\n",
        "    embedded = self.embedding(target_text)\n",
        "    h, c = source_last_state\n",
        "    h = h.unsqueeze(0)\n",
        "    c = c.unsqueeze(0)\n",
        "    output, _ = self.lstm(embedded, (h, c))\n",
        "    pred = self.f(output)\n",
        "    target_len, sorted_indices = torch.sort(target_len, descending=True)\n",
        "    target_text = target_text.index_select(0, sorted_indices)\n",
        "    pred = pred.index_select(0, sorted_indices)\n",
        "    target_len = target_len.cpu()\n",
        "    target_text_packed = pack_padded_sequence(target_text[:, 1:], target_len-1, batch_first=True, enforce_sorted=True)\n",
        "    pred_packed = pack_padded_sequence(pred, target_len-1, batch_first=True, enforce_sorted=True)\n",
        "    loss = F.cross_entropy(pred_packed.data, target_text_packed.data, ignore_index=0)\n",
        "    # END OF YOUR CODE\n",
        "    return loss\n",
        "\n",
        "\n",
        "  def predict(self, source_last_state, max_pred_len):\n",
        "    # type: (Tuple[Tensor, Tensor], int) -> Tensor\n",
        "    \"\"\"\n",
        "    Predict target sentences given the LSTM encoding of source sentences.\n",
        "    The predicted word at step t will be used as input for step t+1.\n",
        "    This is different from what is done in the forward pass.\n",
        "\n",
        "    Inputs:\n",
        "    - source_last_state: A tuple of hidden state and cell state at the end of\n",
        "      each source sentence, both of shape (batch_size, hidden_size).\n",
        "    - max_pred_len: (int) number of prediction steps.\n",
        "\n",
        "    Returns:\n",
        "    - pred: A LongTensor of shape (batch_size, max_pred_len)\n",
        "      containing the predicted target sentences.\n",
        "      Each token is represented by its index in the vocabulary.\n",
        "    \"\"\"\n",
        "    #########################################################################\n",
        "    # TODO:                                                                 #\n",
        "    # Implement the prediction phase.                                       #\n",
        "    #########################################################################\n",
        "    # Replace \"pass\" statement with your code\n",
        "    h, c = source_last_state\n",
        "    batch_size = h.shape[0]\n",
        "    h = h.unsqueeze(0)\n",
        "    c = c.unsqueeze(0)\n",
        "    input_token = torch.ones((batch_size, 1), dtype=torch.long, device='cuda')\n",
        "    temp_pred = []\n",
        "    for i in range(max_pred_len):\n",
        "      embedded = self.embedding(input_token)\n",
        "      raw_output_i, (h, c) = self.lstm(embedded, (h, c))\n",
        "      raw_output_i = raw_output_i.squeeze(1)\n",
        "      logits = self.f(raw_output_i)\n",
        "      pred_token = torch.argmax(logits, dim=1, keepdims=True)\n",
        "      temp_pred.append(pred_token)\n",
        "      input_token = pred_token\n",
        "    pred = torch.cat(temp_pred, dim=1)\n",
        "    # END OF YOUR CODE\n",
        "    return pred"
      ],
      "id": "prostate-southeast"
    },
    {
      "cell_type": "code",
      "execution_count": null,
      "metadata": {
        "colab": {
          "background_save": true
        },
        "id": "mental-pathology"
      },
      "outputs": [],
      "source": [
        "class NMT_LSTM(nn.Module):\n",
        "\n",
        "  def __init__(self, source_vocab_size, target_vocab_size, embedding_dim, hidden_size, max_pred_len):\n",
        "    super().__init__()\n",
        "\n",
        "    self.enc = EncoderLSTM(source_vocab_size, embedding_dim, hidden_size)\n",
        "    self.dec = DecoderLSTM(target_vocab_size, embedding_dim, hidden_size)\n",
        "    self.max_pred_len = max_pred_len\n",
        "\n",
        "\n",
        "  def forward(self, source_text, source_len, target_text, target_len):\n",
        "    # type: (Tensor, Tensor, Tensor, Tensor) -> Tensor\n",
        "    \"\"\"\n",
        "    Perform next word prediction and compute loss.\n",
        "\n",
        "    Inputs:\n",
        "    - source_text: A LongTensor of shape (batch_size, source_seq_len)\n",
        "      containing a mini-batch of source sentences padded to `source_seq_len`.\n",
        "      Each token is represented by its index in the vocabulary.\n",
        "    - source_len: A LongTensor of shape (batch_size,)\n",
        "      containing the actual length of each source sentence (before being padded).\n",
        "    - target_text: A LongTensor of shape (batch_size, target_seq_len)\n",
        "      containing a mini-batch of target sentences padded to `target_seq_len`.\n",
        "      Each token is represented by its index in the vocabulary.\n",
        "    - target_len: A LongTensor of shape (batch_size,)\n",
        "      containing the actual length of each target sentence (before being padded).\n",
        "\n",
        "    Returns:\n",
        "    - loss: A PyTorch scalar containing the loss for the mini-batch.\n",
        "    \"\"\"\n",
        "    _, source_last_state = self.enc(source_text, source_len)\n",
        "    loss = self.dec(target_text, target_len, source_last_state)\n",
        "    return loss\n",
        "\n",
        "\n",
        "  def predict(self, source_text, source_len):\n",
        "    # type: (Tensor, Tensor) -> Tensor\n",
        "    \"\"\"\n",
        "    Predict the target sentence for each source sentence.\n",
        "    The predicted word at step t will be used as input for step t+1.\n",
        "    This is different from what is done in the forward pass.\n",
        "\n",
        "    Inputs:\n",
        "    - source_text: A LongTensor of shape (batch_size, source_seq_len)\n",
        "      containing a mini-batch of source sentences padded to `source_seq_len`.\n",
        "      Each token is represented by its index in the vocabulary.\n",
        "    - source_len: A LongTensor of shape (batch_size,)\n",
        "      containing the actual length of each source sentence (before being padded).\n",
        "\n",
        "    Returns:\n",
        "    - pred: A LongTensor of shape (batch_size, max_pred_len)\n",
        "      containing the predicted target sentences.\n",
        "      Each token is represented by its index in the vocabulary.\n",
        "    \"\"\"\n",
        "    _, source_last_state = self.enc(source_text, source_len)\n",
        "    pred = self.dec.predict(source_last_state, self.max_pred_len)\n",
        "    return pred"
      ],
      "id": "mental-pathology"
    },
    {
      "cell_type": "markdown",
      "metadata": {
        "id": "southeast-announcement"
      },
      "source": [
        "### Training\n",
        "\n",
        "A basic training script is provided below. You can make modifications as appropriate.\n",
        "\n",
        "To get full credit, your model should **achieve at least 35% validation accuracy**."
      ],
      "id": "southeast-announcement"
    },
    {
      "cell_type": "code",
      "execution_count": null,
      "metadata": {
        "colab": {
          "background_save": true
        },
        "id": "legendary-alliance",
        "outputId": "64c9f066-e257-472a-e52f-314a1c233594"
      },
      "outputs": [
        {
          "name": "stdout",
          "output_type": "stream",
          "text": [
            "Train Epoch:   0 \t Loss: 7.128574 \t Val Acc: 0.043408\n",
            "Train Epoch:   1 \t Loss: 3.366969 \t Val Acc: 21.040066\n",
            "Train Epoch:   2 \t Loss: 2.451016 \t Val Acc: 25.814993\n",
            "Train Epoch:   3 \t Loss: 2.048325 \t Val Acc: 28.862265\n",
            "Train Epoch:   4 \t Loss: 1.567008 \t Val Acc: 31.115163\n",
            "Train Epoch:   5 \t Loss: 1.229347 \t Val Acc: 33.025133\n",
            "Train Epoch:   6 \t Loss: 1.111479 \t Val Acc: 35.542822\n",
            "Train Epoch:   7 \t Loss: 0.648643 \t Val Acc: 36.927551\n",
            "Train Epoch:   8 \t Loss: 0.576995 \t Val Acc: 39.705691\n",
            "Train Epoch:   9 \t Loss: 0.430971 \t Val Acc: 40.439293\n",
            "Train Epoch:  10 \t Loss: 0.303038 \t Val Acc: 42.258107\n",
            "Train Epoch:  11 \t Loss: 0.201153 \t Val Acc: 43.230455\n",
            "Train Epoch:  12 \t Loss: 0.155518 \t Val Acc: 43.069844\n",
            "Train Epoch:  13 \t Loss: 0.133039 \t Val Acc: 44.463255\n",
            "Train Epoch:  14 \t Loss: 0.080813 \t Val Acc: 44.645570\n",
            "Train Epoch:  15 \t Loss: 0.054161 \t Val Acc: 44.988497\n",
            "Train Epoch:  16 \t Loss: 0.052750 \t Val Acc: 45.500716\n",
            "Train Epoch:  17 \t Loss: 0.035762 \t Val Acc: 45.144767\n",
            "Train Epoch:  18 \t Loss: 0.029237 \t Val Acc: 45.522420\n",
            "Train Epoch:  19 \t Loss: 0.029153 \t Val Acc: 45.735122\n",
            "Train Epoch:  20 \t Loss: 0.040373 \t Val Acc: 45.209880\n",
            "Train Epoch:  21 \t Loss: 0.041652 \t Val Acc: 45.374832\n",
            "Train Epoch:  22 \t Loss: 0.054776 \t Val Acc: 44.597821\n",
            "Train Epoch:  23 \t Loss: 0.036212 \t Val Acc: 44.584798\n",
            "Train Epoch:  24 \t Loss: 0.034960 \t Val Acc: 44.758432\n",
            "Train Epoch:  25 \t Loss: 0.027516 \t Val Acc: 45.622260\n",
            "Train Epoch:  26 \t Loss: 0.017699 \t Val Acc: 45.470330\n",
            "Train Epoch:  27 \t Loss: 0.018424 \t Val Acc: 45.882710\n",
            "Train Epoch:  28 \t Loss: 0.010031 \t Val Acc: 46.182229\n",
            "Train Epoch:  29 \t Loss: 0.020792 \t Val Acc: 46.234319\n",
            "Train Epoch:  30 \t Loss: 0.021536 \t Val Acc: 45.808916\n",
            "Train Epoch:  31 \t Loss: 0.014915 \t Val Acc: 46.325476\n",
            "Train Epoch:  32 \t Loss: 0.020090 \t Val Acc: 45.882710\n",
            "Train Epoch:  33 \t Loss: 0.052746 \t Val Acc: 44.506663\n",
            "Train Epoch:  34 \t Loss: 0.074260 \t Val Acc: 44.137692\n",
            "Train Epoch:  35 \t Loss: 0.029762 \t Val Acc: 44.715024\n",
            "Train Epoch:  36 \t Loss: 0.018047 \t Val Acc: 45.392195\n",
            "Train Epoch:  37 \t Loss: 0.016591 \t Val Acc: 46.451361\n",
            "Train Epoch:  38 \t Loss: 0.006619 \t Val Acc: 46.564223\n",
            "Train Epoch:  39 \t Loss: 0.005017 \t Val Acc: 46.134479\n",
            "Train Epoch:  40 \t Loss: 0.004630 \t Val Acc: 46.199592\n",
            "Train Epoch:  41 \t Loss: 0.004128 \t Val Acc: 46.538178\n",
            "Train Epoch:  42 \t Loss: 0.003808 \t Val Acc: 46.538178\n",
            "Train Epoch:  43 \t Loss: 0.010613 \t Val Acc: 46.433997\n",
            "Train Epoch:  44 \t Loss: 0.043496 \t Val Acc: 44.966793\n",
            "Train Epoch:  45 \t Loss: 0.104820 \t Val Acc: 43.556019\n",
            "Train Epoch:  46 \t Loss: 0.029713 \t Val Acc: 43.764379\n",
            "Train Epoch:  47 \t Loss: 0.023457 \t Val Acc: 46.078048\n",
            "Train Epoch:  48 \t Loss: 0.010174 \t Val Acc: 46.347181\n",
            "Train Epoch:  49 \t Loss: 0.004666 \t Val Acc: 46.620654\n"
          ]
        }
      ],
      "source": [
        "torch.manual_seed(0)\n",
        "\n",
        "batch_size = 40\n",
        "num_epochs = 50\n",
        "learning_rate = 0.0001  # TODO\n",
        "weight_decay = 0.00001  # TODO\n",
        "\n",
        "embedding_dim = 256*8\n",
        "hidden_size = 256*8\n",
        "\n",
        "source_vocab, target_vocab, train_loader, val_loader = get_data_loader(\n",
        "  source_text, target_text, batch_size)\n",
        "model = NMT_LSTM(source_vocab.size, target_vocab.size, embedding_dim, hidden_size, MAX_LEN + 1)\n",
        "model = model.cuda()\n",
        "\n",
        "model, loss_history = train(model, train_loader, val_loader, num_epochs, learning_rate, weight_decay)"
      ],
      "id": "legendary-alliance"
    },
    {
      "cell_type": "code",
      "execution_count": null,
      "metadata": {
        "colab": {
          "background_save": true
        },
        "id": "comparable-longer",
        "outputId": "8908b893-1ddd-439a-b3ba-a260062e1d1c"
      },
      "outputs": [
        {
          "data": {
            "image/png": "[encoded data removed]",
            "text/plain": [
              "<Figure size 1000x800 with 1 Axes>"
            ]
          },
          "metadata": {},
          "output_type": "display_data"
        }
      ],
      "source": [
        "plt.plot(loss_history, 'o')\n",
        "plt.xlabel('Iteration number')\n",
        "plt.ylabel('Loss value')\n",
        "plt.show()"
      ],
      "id": "comparable-longer"
    },
    {
      "cell_type": "code",
      "execution_count": null,
      "metadata": {
        "colab": {
          "background_save": true
        },
        "id": "dietary-croatia",
        "outputId": "f43c9d0f-1e1a-4275-e74e-3a594df1db1a"
      },
      "outputs": [
        {
          "name": "stdout",
          "output_type": "stream",
          "text": [
            "=== Sample 1 ===\n",
            "source_sentence: ['vous', 'etiez', 'ici', 'pas', 'plus', 'tard', 'que', 'l', 'autre', 'jour', 'n', 'est', 'ce', 'pas', '?', 'pad']\n",
            "target_sentence: ['bos', 'you', 'were', 'here', 'just', 'the', 'other', 'day', 'weren', 't', 'you', '?', 'eos', 'pad', 'pad', 'pad', 'pad', 'pad']\n",
            "pred_sentence:   ['you', 'were', 'here', 'just', 'the', 'other', 'day', 'weren', 't', 'you', '?', 'eos', 'eos', '?', 'eos', 'eos', 'eos']\n",
            "=== Sample 2 ===\n",
            "source_sentence: ['il', 'semble', 'n', 'avoir', 'aucun', 'sens', 'de', 'l', 'unk', '.', 'pad', 'pad', 'pad', 'pad', 'pad', 'pad']\n",
            "target_sentence: ['bos', 'he', 'seems', 'to', 'have', 'no', 'sense', 'of', 'unk', '.', 'eos', 'pad', 'pad', 'pad', 'pad', 'pad', 'pad', 'pad']\n",
            "pred_sentence:   ['he', 'seems', 'to', 'have', 'no', 'sense', 'of', 'unk', '.', 'eos', 'eos', 'eos', '.', 'eos', 'eos', 'eos', 'eos']\n",
            "=== Sample 3 ===\n",
            "source_sentence: ['du', 'bon', 'bois', 'de', 'unk', 'est', 'difficile', 'a', 'trouver', 'de', 'nos', 'jours', '.', 'pad', 'pad', 'pad']\n",
            "target_sentence: ['bos', 'good', 'unk', 'is', 'hard', 'to', 'find', 'these', 'days', '.', 'eos', 'pad', 'pad', 'pad', 'pad', 'pad', 'pad', 'pad']\n",
            "pred_sentence:   ['good', 'unk', 'is', 'hard', 'to', 'find', 'these', 'days', '.', 'eos', 'eos', 'eos', '.', 'eos', 'eos', 'eos', '.']\n",
            "=== Sample 4 ===\n",
            "source_sentence: ['quel', 'age', 'aviez', 'vous', 'quand', 'vous', 'vous', 'etes', 'maries', '?', 'pad', 'pad', 'pad', 'pad', 'pad', 'pad']\n",
            "target_sentence: ['bos', 'how', 'old', 'were', 'you', 'when', 'you', 'got', 'married', '?', 'eos', 'pad', 'pad', 'pad', 'pad', 'pad', 'pad', 'pad']\n",
            "pred_sentence:   ['how', 'old', 'were', 'you', 'when', 'you', 'got', 'married', '?', 'eos', 'eos', 'eos', '?', 'eos', 'eos', 'eos', '.']\n",
            "=== Sample 5 ===\n",
            "source_sentence: ['les', 'unk', 'ne', 'sont', 'plus', 'aussi', 'unk', 'que', 'par', 'le', 'passe', '.', 'pad', 'pad', 'pad', 'pad']\n",
            "target_sentence: ['bos', 'unk', 'aren', 't', 'being', 'read', 'as', 'much', 'as', 'they', 'were', 'in', 'the', 'past', '.', 'eos', 'pad', 'pad']\n",
            "pred_sentence:   ['unk', 'aren', 't', 'being', 'read', 'as', 'much', 'as', 'they', 'were', 'in', 'the', 'past', '.', 'eos', 'eos', 'eos']\n",
            "Training Accuracy: 99.80101869775389\n"
          ]
        }
      ],
      "source": [
        "train_acc = eval_acc(model, train_loader)\n",
        "print('Training Accuracy:', train_acc)"
      ],
      "id": "dietary-croatia"
    },
    {
      "cell_type": "code",
      "execution_count": null,
      "metadata": {
        "colab": {
          "background_save": true
        },
        "id": "7cb860bd",
        "outputId": "40da0d1b-7a95-4101-c96d-75c17363a268"
      },
      "outputs": [
        {
          "name": "stdout",
          "output_type": "stream",
          "text": [
            "=== Sample 1 ===\n",
            "source_sentence: ['j', 'ai', 'eu', 'du', 'mal', 'a', 'la', 'convaincre', 'des', 'unk', 'de', 'la', 'unk', '.', 'pad', 'pad']\n",
            "target_sentence: ['bos', 'i', 'had', 'unk', 'unk', 'her', 'of', 'the', 'unk', 'of', 'smoking', '.', 'eos', 'pad', 'pad', 'pad', 'pad', 'pad']\n",
            "pred_sentence:   ['i', 'had', 'a', 'unk', 'cold', 'of', 'the', 'unk', 's', 'unk', '.', 'eos', 'eos', 'eos', '.', 'eos', 'eos']\n",
            "=== Sample 2 ===\n",
            "source_sentence: ['pourquoi', 'ne', 'me', 'unk', 'tu', 'pas', 'ce', 'que', 'tu', 'veux', 'vraiment', 'savoir', '?', 'pad', 'pad', 'pad']\n",
            "target_sentence: ['bos', 'why', 'don', 't', 'you', 'ask', 'me', 'what', 'you', 'really', 'want', 'to', 'know', '?', 'eos', 'pad', 'pad', 'pad']\n",
            "pred_sentence:   ['why', 'don', 't', 'you', 'ask', 'me', 'what', 'you', 'really', 'want', 'to', 'know', '?', 'eos', 'eos', '?', 'eos']\n",
            "=== Sample 3 ===\n",
            "source_sentence: ['j', 'ai', 'unk', 'le', 'livre', 'que', 'j', 'avais', 'perdu', 'hier', '.', 'pad', 'pad', 'pad', 'pad', 'pad']\n",
            "target_sentence: ['bos', 'i', 'found', 'the', 'book', 'which', 'i', 'had', 'lost', 'the', 'day', 'before', '.', 'eos', 'pad', 'pad', 'pad', 'pad']\n",
            "pred_sentence:   ['i', 'unk', 'the', 'book', 'i', 'had', 'given', 'book', '.', 'eos', 'eos', 'eos', '.', 'eos', 'eos', 'eos', 'eos']\n",
            "=== Sample 4 ===\n",
            "source_sentence: ['ce', 'que', 'je', 't', 'ai', 'dit', 'a', 'son', 'sujet', 'est', 'aussi', 'unk', 'pour', 'son', 'frere', '.']\n",
            "target_sentence: ['bos', 'what', 'i', 'told', 'you', 'about', 'him', 'unk', 'unk', 'good', 'for', 'his', 'brother', '.', 'eos', 'pad', 'pad', 'pad']\n",
            "pred_sentence:   ['i', 'told', 'you', 'to', 'say', 'that', 'his', 'unk', 'is', 'bad', 'for', 'his', 'unk', '.', 'eos', 'eos', 'eos']\n",
            "=== Sample 5 ===\n",
            "source_sentence: ['si', 'tu', 'ne', 'veux', 'pas', 'le', 'faire', 'tu', 'n', 'y', 'es', 'pas', 'oblige', '.', 'pad', 'pad']\n",
            "target_sentence: ['bos', 'if', 'you', 'don', 't', 'want', 'to', 'do', 'it', 'you', 'don', 't', 'have', 'to', '.', 'eos', 'pad', 'pad']\n",
            "pred_sentence:   ['if', 'you', 'don', 't', 'want', 'to', 'do', 'it', 'you', 'don', 't', 'have', 'to', '.', 'eos', 'eos', 'eos']\n",
            "Validation Accuracy: 46.750879020705824\n"
          ]
        }
      ],
      "source": [
        "val_acc = eval_acc(model, val_loader)\n",
        "print('Validation Accuracy:', val_acc)"
      ],
      "id": "7cb860bd"
    },
    {
      "cell_type": "markdown",
      "metadata": {
        "id": "8cd50bfe"
      },
      "source": [
        "The following grading cells will assign partial credit based on the validation accuracy. Please do not remove.\n",
        "- ${\\geq} 35\\%$: 25 points\n",
        "- $32\\% {\\sim} 35\\%$: 20 points\n",
        "- $28\\% {\\sim} 32\\%$: 15 points\n",
        "- $24\\% {\\sim} 28\\%$: 10 points\n",
        "- $20\\% {\\sim} 24\\%$: 5 points\n",
        "- ${<} 20\\%$: no credit"
      ],
      "id": "8cd50bfe"
    },
    {
      "cell_type": "code",
      "execution_count": null,
      "metadata": {
        "colab": {
          "background_save": true
        },
        "id": "d31b14ab"
      },
      "outputs": [],
      "source": [
        "# Grading cell. Do not remove."
      ],
      "id": "d31b14ab"
    },
    {
      "cell_type": "code",
      "execution_count": null,
      "metadata": {
        "colab": {
          "background_save": true
        },
        "id": "39d31839"
      },
      "outputs": [],
      "source": [
        "# Grading cell. Do not remove."
      ],
      "id": "39d31839"
    },
    {
      "cell_type": "code",
      "execution_count": null,
      "metadata": {
        "colab": {
          "background_save": true
        },
        "id": "0a7c1318"
      },
      "outputs": [],
      "source": [
        "# Grading cell. Do not remove."
      ],
      "id": "0a7c1318"
    },
    {
      "cell_type": "code",
      "execution_count": null,
      "metadata": {
        "colab": {
          "background_save": true
        },
        "id": "1a850707"
      },
      "outputs": [],
      "source": [
        "# Grading cell. Do not remove."
      ],
      "id": "1a850707"
    },
    {
      "cell_type": "code",
      "execution_count": null,
      "metadata": {
        "colab": {
          "background_save": true
        },
        "id": "292e0b62"
      },
      "outputs": [],
      "source": [
        "# Grading cell. Do not remove."
      ],
      "id": "292e0b62"
    },
    {
      "cell_type": "markdown",
      "metadata": {
        "id": "final-vessel"
      },
      "source": [
        "## Sequence to Sequence with Attention (35 points)\n",
        "\n",
        "So far we have been compressing the entire source sentence into some fixed-length encoding vector, from which the decoder needs to extract relevant information to predict each target word. However, as suggested in this [paper](https://arxiv.org/pdf/1409.0473.pdf), such a fixed-length encoding can become a bottleneck when the sentence gets longer. A better approach would be to let the decoder have direct access to the encoder hidden states at all steps. This allows the decoder to focus on relevant words in the source sentence more easily when predicting a target word.\n",
        "\n",
        "<img src=\"https://guillaumegenthial.github.io/assets/img2latex/seq2seq_attention_mechanism_new.svg\" width=800>\n",
        "\n",
        "As depicted above, at each step $t$, the decoder uses its previous hidden state $h_{t-1}^\\text{dec}$ to compute an attention score $\\alpha_{t, i}$ for each word $i$ in the source sentence:\n",
        "$$\n",
        "\\alpha_{t, i} = f(h_{t-1}^\\text{dec}, h_i^\\text{enc}).\n",
        "$$\n",
        "Then, a context vector $c_t$ is computed by a weighted sum of the encoder hidden states:\n",
        "$$\n",
        "\\bar{\\alpha}_{t, :} = \\text{softmax}(\\alpha_{t, :}),\n",
        "$$\n",
        "$$\n",
        "c_t = \\sum_i \\bar{\\alpha}_{t, i} h_i^\\text{enc}.\n",
        "$$\n",
        "This context vector is expected to capture the most relevant information for prediction at step $t$. Hence, it is concatenated with the original decoder input $x_t$ and fed to the decoder LSTM:\n",
        "$$\n",
        "h_t^\\text{dec} = \\text{LSTM}^\\text{dec}(h_{t-1}^\\text{dec}, \\text{concat}[x_t, c_t]).\n",
        "$$\n",
        "The predicted distribution $p_t$ for the next word is computed by a fully connected layer $g(\\cdot)$:\n",
        "$$\n",
        "p_t = g(\\text{concat}[h_t^\\text{dec}, x_t, c_t]).\n",
        "$$"
      ],
      "id": "final-vessel"
    },
    {
      "cell_type": "markdown",
      "metadata": {
        "id": "artificial-paintball"
      },
      "source": [
        "Let us first implement the attention mechanism. This includes the scoring function $f(\\cdot, \\cdot)$ and the $\\text{softmax}(\\cdot)$. Since the padding tokens do not contain any useful information, they should be masked out in the softmax. Implement the `masked_softmax()` function below that computes softmax after masking out the padding tokens:"
      ],
      "id": "artificial-paintball"
    },
    {
      "cell_type": "code",
      "execution_count": null,
      "metadata": {
        "colab": {
          "background_save": true
        },
        "id": "retired-inspiration"
      },
      "outputs": [],
      "source": [
        "def masked_softmax(attention_scores, valid_len):\n",
        "  \"\"\"\n",
        "  Inputs:\n",
        "  - attention_scores: A PyTorch tensor of shape (batch_size, max_seq_len)\n",
        "    containing the unnormalized per-token attention scores for a mini-batch of sequences,\n",
        "    each padded to `max_seq_len`. The scores are to be normalized\n",
        "    across the non-padding tokens within each sequence.\n",
        "  - valid_len: A LongTensor of shape (batch_size,)\n",
        "    containing the number of non-padding tokens for each sequence.\n",
        "\n",
        "  Returns:\n",
        "  - attention_weights: A PyTorch tensor of shape (batch_size, max_seq_len)\n",
        "    containing the normalized per-token attention weights. For each sequence,\n",
        "    the sum of attention weights over non-padding tokens should be (approximately) 1,\n",
        "    while the attention weights for padding tokens should be (approximately) 0.\n",
        "  \"\"\"\n",
        "  mask_value = -1e9\n",
        "  #########################################################################\n",
        "  # TODO:                                                                 #\n",
        "  # Replace attention scores at padding tokens with `mask_value`,         #\n",
        "  # then compute softmax.                                                 #\n",
        "  #########################################################################\n",
        "  # Replace \"pass\" statement with your code\n",
        "  batch_size, max_seq_len = attention_scores.shape\n",
        "  mask = torch.arange(max_seq_len, device=attention_scores.device).expand(batch_size, max_seq_len)>=valid_len.unsqueeze(1)\n",
        "  attention_scores.masked_fill_(mask, mask_value)\n",
        "  attention_weights = torch.softmax(attention_scores, dim=1)\n",
        "  # END OF YOUR CODE\n",
        "  return attention_weights"
      ],
      "id": "retired-inspiration"
    },
    {
      "cell_type": "markdown",
      "metadata": {
        "id": "passing-chrome"
      },
      "source": [
        "We will use the following helper function to check your results:"
      ],
      "id": "passing-chrome"
    },
    {
      "cell_type": "code",
      "execution_count": null,
      "metadata": {
        "colab": {
          "background_save": true
        },
        "id": "smart-smell"
      },
      "outputs": [],
      "source": [
        "def check_masked_softmax(batch_size, max_seq_len):\n",
        "\n",
        "  torch.manual_seed(0)\n",
        "  attention_scores = torch.empty(batch_size, max_seq_len).normal_()\n",
        "  valid_len = torch.randint(1, max_seq_len + 1, (batch_size,))\n",
        "\n",
        "  attention_weights = masked_softmax(attention_scores, valid_len)\n",
        "\n",
        "  attention_weights_cumsum = attention_weights.cumsum(dim=-1)\n",
        "\n",
        "  attention_weights_cumsum_all = attention_weights_cumsum[:, -1]\n",
        "  attention_weights_cumsum_valid = attention_weights_cumsum[torch.arange(batch_size), valid_len - 1]\n",
        "\n",
        "  assert (attention_weights >= 0).all()\n",
        "  assert max_diff(attention_weights_cumsum_all, 1) < 1e-5\n",
        "  assert max_diff(attention_weights_cumsum_valid, 1) < 1e-5\n",
        "  print('Test passed')"
      ],
      "id": "smart-smell"
    },
    {
      "cell_type": "code",
      "execution_count": null,
      "metadata": {
        "colab": {
          "background_save": true
        },
        "id": "32b9a340",
        "outputId": "61f84f26-0d70-4207-b60c-08c0016be8dc"
      },
      "outputs": [
        {
          "name": "stdout",
          "output_type": "stream",
          "text": [
            "Test passed\n"
          ]
        }
      ],
      "source": [
        "check_masked_softmax(batch_size=1, max_seq_len=1)"
      ],
      "id": "32b9a340"
    },
    {
      "cell_type": "code",
      "execution_count": null,
      "metadata": {
        "colab": {
          "background_save": true
        },
        "id": "creative-shock",
        "outputId": "84f00ef2-d900-4045-f9ad-d1a7009791c2"
      },
      "outputs": [
        {
          "name": "stdout",
          "output_type": "stream",
          "text": [
            "Test passed\n"
          ]
        }
      ],
      "source": [
        "check_masked_softmax(batch_size=64, max_seq_len=32)"
      ],
      "id": "creative-shock"
    },
    {
      "cell_type": "markdown",
      "metadata": {
        "id": "white-consensus"
      },
      "source": [
        "Next, we will implement the scoring function as an MLP with one hidden layer. Consider the general setting where we are given a set of key-value pairs $\\{(k_i, v_i)\\}$ and a query $q$. The attention scores can be computed as:\n",
        "$$\n",
        "\\alpha(q, k_i) = w^\\top \\text{tanh}(W_q q + W_k k_i + b),\n",
        "$$\n",
        "where $w$, $W_q$, $W_k$, and $b$ are learnable parameters, and the dimension of $w$ is the hidden size of the MLP.\n",
        "\n",
        "The attention output is a weighted sum of values:\n",
        "$$\n",
        "c = \\sum_i \\bar{\\alpha}(q, k_i) v_i,\n",
        "$$\n",
        "where $\\bar{\\alpha}(q, k_i)$ is the normalized attention weights."
      ],
      "id": "white-consensus"
    },
    {
      "cell_type": "code",
      "execution_count": null,
      "metadata": {
        "colab": {
          "background_save": true
        },
        "id": "affected-reader"
      },
      "outputs": [],
      "source": [
        "class MLP_Attention(nn.Module):\n",
        "\n",
        "  def __init__(self, query_dim, key_dim, hidden_size):\n",
        "    super().__init__()\n",
        "    #########################################################################\n",
        "    # TODO:                                                                 #\n",
        "    # Set up the module components.                                         #\n",
        "    #########################################################################\n",
        "    # Replace \"pass\" statement with your code\n",
        "    self.layer1 = nn.Linear(query_dim+key_dim, hidden_size)\n",
        "    self.layer2 = nn.Linear(hidden_size, 1)\n",
        "    # END OF YOUR CODE\n",
        "\n",
        "\n",
        "  def forward(self, query, keys, values, valid_len):\n",
        "    # type: (Tensor, Tensor, Tensor, Tensor) -> Tensor\n",
        "    \"\"\"\n",
        "    Inputs:\n",
        "    - query: A PyTorch tensor of shape (batch_size, query_dim).\n",
        "    - keys: A PyTorch tensor of shape (batch_size, max_seq_len, key_dim)\n",
        "      containing the per-token keys for a mini-batch of sequences,\n",
        "      each padded to `max_seq_len`.\n",
        "    - values: A PyTorch tensor of shape (batch_size, max_seq_len, value_dim)\n",
        "      containing the per-token values for a mini-batch of sequences,\n",
        "      each padded to `max_seq_len`.\n",
        "    - valid_len: A LongTensor of shape (batch_size,)\n",
        "      containing the number of non-padding tokens for each sequence.\n",
        "\n",
        "    Returns:\n",
        "    - attention: A PyTorch tensor of shape (batch_size, value_dim)\n",
        "      containing the weighted sum of values, where the weights are\n",
        "      computed by MLP attention over the non-padding tokens.\n",
        "    \"\"\"\n",
        "    #########################################################################\n",
        "    # TODO:                                                                 #\n",
        "    # Implement the forward pass without explicit loops.                    #\n",
        "    #########################################################################\n",
        "    # Replace \"pass\" statement with your code\n",
        "    _, max_seq_len, _ = keys.shape\n",
        "    expanded_query = query.unsqueeze(1).repeat(1, max_seq_len, 1)\n",
        "    concat_input = torch.cat((expanded_query, keys), dim=2)\n",
        "    h = torch.tanh(self.layer1(concat_input))\n",
        "    scores = self.layer2(h).squeeze(2)\n",
        "    soft_scores = masked_softmax(scores, valid_len)\n",
        "    attention = torch.bmm(soft_scores.unsqueeze(1), values).squeeze(1)\n",
        "    # END OF YOUR CODE\n",
        "    return attention"
      ],
      "id": "affected-reader"
    },
    {
      "cell_type": "markdown",
      "metadata": {
        "id": "technical-sharp"
      },
      "source": [
        "Now we can implement the seq2seq model with attention. Note that only the decoder needs to be changed. Implement `DecoderAttLSTM` below:"
      ],
      "id": "technical-sharp"
    },
    {
      "cell_type": "code",
      "execution_count": null,
      "metadata": {
        "colab": {
          "background_save": true
        },
        "id": "cultural-exception"
      },
      "outputs": [],
      "source": [
        "class DecoderAttLSTM(nn.Module):\n",
        "\n",
        "  def __init__(self, vocab_size, embedding_dim, hidden_size):\n",
        "    super().__init__()\n",
        "    #########################################################################\n",
        "    # TODO:                                                                 #\n",
        "    # Set up the decoder components.                                        #\n",
        "    #########################################################################\n",
        "    # Replace \"pass\" statement with your code\n",
        "    self.embedding = nn.Embedding(vocab_size, embedding_dim)\n",
        "    self.attention = MLP_Attention(hidden_size, hidden_size, hidden_size)\n",
        "    self.lstm = nn.LSTM(hidden_size+embedding_dim, hidden_size, batch_first=True)\n",
        "    self.f = nn.Linear(hidden_size, vocab_size)\n",
        "    # END OF YOUR CODE\n",
        "\n",
        "\n",
        "  def forward(self, target_text, target_len, source_last_state, source_hidden_states, source_len):\n",
        "    # type: (Tensor, Tensor, Tuple[Tensor, Tensor], Tensor, Tensor) -> Tensor\n",
        "    \"\"\"\n",
        "    Perform next word prediction and compute loss.\n",
        "\n",
        "    Inputs:\n",
        "    - target_text: A LongTensor of shape (batch_size, target_seq_len)\n",
        "      containing a mini-batch of target sentences padded to `target_seq_len`.\n",
        "      Each token is represented by its index in the vocabulary.\n",
        "    - target_len: A LongTensor of shape (batch_size,)\n",
        "      containing the actual length of each target sentence (before being padded).\n",
        "    - source_last_state: A tuple of hidden state and cell state at the end of\n",
        "      each source sentence, both of shape (batch_size, hidden_size).\n",
        "    - source_hidden_states: A PyTorch tensor of shape (batch_size, source_seq_len, hidden_size)\n",
        "      containing the LSTM hidden state `ht` at each step t of the source sentences.\n",
        "    - source_len: A LongTensor of shape (batch_size,)\n",
        "      containing the actual length of each source sentence (before being padded).\n",
        "\n",
        "    Returns:\n",
        "    - loss: A PyTorch scalar containing the loss for the mini-batch.\n",
        "    \"\"\"\n",
        "    #########################################################################\n",
        "    # TODO:                                                                 #\n",
        "    # Implement the forward pass.                                           #\n",
        "    #########################################################################\n",
        "    # Replace \"pass\" statement with your code\n",
        "    embedded = self.embedding(target_text)\n",
        "    h, c = source_last_state\n",
        "    h = h.unsqueeze(0)\n",
        "    c = c.unsqueeze(0)\n",
        "    temp_context = self.attention(h.squeeze(0), source_hidden_states, source_hidden_states, source_len)\n",
        "    _, target_seq_len = target_text.shape\n",
        "    temp_context = temp_context.unsqueeze(1).expand(-1, target_seq_len, -1)\n",
        "    lstm_in = torch.cat([embedded, temp_context], dim=2)\n",
        "    output, _ = self.lstm(lstm_in, (h, c))\n",
        "    pred = self.f(output)\n",
        "    target_len, sorted_indices = torch.sort(target_len, descending=True)\n",
        "    target_text = target_text.index_select(0, sorted_indices)\n",
        "    pred = pred.index_select(0, sorted_indices)\n",
        "    target_len = target_len.cpu()\n",
        "    target_text_packed = pack_padded_sequence(target_text[:, 1:], target_len-1, batch_first=True, enforce_sorted=True)\n",
        "    pred_packed = pack_padded_sequence(pred, target_len-1, batch_first=True, enforce_sorted=True)\n",
        "    loss = F.cross_entropy(pred_packed.data, target_text_packed.data, ignore_index=0)\n",
        "    # END OF YOUR CODE\n",
        "    return loss\n",
        "\n",
        "\n",
        "  def predict(self, source_last_state, max_pred_len, source_hidden_states, source_len):\n",
        "    # type: (Tuple[Tensor, Tensor], int, Tensor, Tensor) -> Tensor\n",
        "    \"\"\"\n",
        "    Predict target sentences given the LSTM encoding of source sentences.\n",
        "    The predicted word at step t will be used as input for step t+1.\n",
        "    This is different from what is done in the forward pass.\n",
        "\n",
        "    Inputs:\n",
        "    - source_last_state: A tuple of hidden state and cell state at the end of\n",
        "      each source sentence, both of shape (batch_size, hidden_size).\n",
        "    - max_pred_len: (int) number of prediction steps.\n",
        "    - source_hidden_states: A PyTorch tensor of shape (batch_size, source_seq_len, hidden_size)\n",
        "      containing the LSTM hidden state `ht` at each step t of the source sentences.\n",
        "    - source_len: A LongTensor of shape (batch_size,)\n",
        "      containing the actual length of each source sentence (before being padded).\n",
        "\n",
        "    Returns:\n",
        "    - pred: A LongTensor of shape (batch_size, max_pred_len)\n",
        "      containing the predicted target sentences.\n",
        "      Each token is represented by its index in the vocabulary.\n",
        "    \"\"\"\n",
        "    #########################################################################\n",
        "    # TODO:                                                                 #\n",
        "    # Implement the prediction phase.                                       #\n",
        "    #########################################################################\n",
        "    # Replace \"pass\" statement with your code\n",
        "    h, c = source_last_state\n",
        "    h = h.unsqueeze(0)\n",
        "    c = c.unsqueeze(0)\n",
        "    batch_size = source_len.shape[0]\n",
        "    input_token = torch.ones((batch_size, 1), dtype=torch.long, device=\"cuda\")\n",
        "    temp_pred = []\n",
        "    for i in range(max_pred_len):\n",
        "      embedded = self.embedding(input_token)\n",
        "      temp_context = self.attention(h.squeeze(0), source_hidden_states, source_hidden_states, source_len)\n",
        "      temp_context = temp_context.unsqueeze(1)\n",
        "      lstm_in = torch.cat([embedded, temp_context], dim=2)\n",
        "      temp_raw_output, (h, c) = self.lstm(lstm_in, (h, c))\n",
        "      temp_raw_output = temp_raw_output.squeeze(1)\n",
        "      logits = self.f(temp_raw_output)\n",
        "      pred_token = torch.argmax(logits, dim=1, keepdims=True)\n",
        "      temp_pred.append(pred_token)\n",
        "      input_token = pred_token\n",
        "    pred = torch.cat(temp_pred, dim=1)\n",
        "    # END OF YOUR CODE\n",
        "    return pred"
      ],
      "id": "cultural-exception"
    },
    {
      "cell_type": "code",
      "execution_count": null,
      "metadata": {
        "colab": {
          "background_save": true
        },
        "id": "lined-clothing"
      },
      "outputs": [],
      "source": [
        "class NMT_AttLSTM(nn.Module):\n",
        "\n",
        "  def __init__(self, source_vocab_size, target_vocab_size, embedding_dim, hidden_size, max_pred_len):\n",
        "    super().__init__()\n",
        "\n",
        "    self.enc = EncoderLSTM(source_vocab_size, embedding_dim, hidden_size)\n",
        "    self.dec = DecoderAttLSTM(target_vocab_size, embedding_dim, hidden_size)\n",
        "    self.max_pred_len = max_pred_len\n",
        "\n",
        "\n",
        "  def forward(self, source_text, source_len, target_text, target_len):\n",
        "    # type: (Tensor, Tensor, Tensor, Tensor) -> Tensor\n",
        "    \"\"\"\n",
        "    Perform next word prediction and compute loss.\n",
        "\n",
        "    Inputs:\n",
        "    - source_text: A LongTensor of shape (batch_size, source_seq_len)\n",
        "      containing a mini-batch of source sentences padded to `source_seq_len`.\n",
        "      Each token is represented by its index in the vocabulary.\n",
        "    - source_len: A LongTensor of shape (batch_size,)\n",
        "      containing the actual length of each source sentence (before being padded).\n",
        "    - target_text: A LongTensor of shape (batch_size, target_seq_len)\n",
        "      containing a mini-batch of target sentences padded to `target_seq_len`.\n",
        "      Each token is represented by its index in the vocabulary.\n",
        "    - target_len: A LongTensor of shape (batch_size,)\n",
        "      containing the actual length of each target sentence (before being padded).\n",
        "\n",
        "    Returns:\n",
        "    - loss: A PyTorch scalar containing the loss for the mini-batch.\n",
        "    \"\"\"\n",
        "    source_hidden_states, source_last_state = self.enc(source_text, source_len)\n",
        "    loss = self.dec(target_text, target_len, source_last_state, source_hidden_states, source_len)\n",
        "    return loss\n",
        "\n",
        "\n",
        "  def predict(self, source_text, source_len):\n",
        "    # type: (Tensor, Tensor) -> Tensor\n",
        "    \"\"\"\n",
        "    Predict the target sentence for each source sentence.\n",
        "    The predicted word at step t will be used as input for step t+1.\n",
        "    This is different from what is done in the forward pass.\n",
        "\n",
        "    Inputs:\n",
        "    - source_text: A LongTensor of shape (batch_size, source_seq_len)\n",
        "      containing a mini-batch of source sentences padded to `source_seq_len`.\n",
        "      Each token is represented by its index in the vocabulary.\n",
        "    - source_len: A LongTensor of shape (batch_size,)\n",
        "      containing the actual length of each source sentence (before being padded).\n",
        "\n",
        "    Returns:\n",
        "    - pred: A LongTensor of shape (batch_size, max_pred_len)\n",
        "      containing the predicted target sentences.\n",
        "      Each token is represented by its index in the vocabulary.\n",
        "    \"\"\"\n",
        "    source_hidden_states, source_last_state = self.enc(source_text, source_len)\n",
        "    pred = self.dec.predict(source_last_state, self.max_pred_len, source_hidden_states, source_len)\n",
        "    return pred"
      ],
      "id": "lined-clothing"
    },
    {
      "cell_type": "markdown",
      "metadata": {
        "id": "medieval-horse"
      },
      "source": [
        "### Training\n",
        "\n",
        "A basic training script is provided below. You can make modifications as appropriate.\n",
        "\n",
        "To get full credit, your model should **achieve at least 44% validation accuracy**."
      ],
      "id": "medieval-horse"
    },
    {
      "cell_type": "code",
      "execution_count": null,
      "metadata": {
        "id": "artificial-general"
      },
      "outputs": [],
      "source": [
        "torch.manual_seed(0)\n",
        "\n",
        "batch_size = 40\n",
        "num_epochs = 50\n",
        "learning_rate = 0.0003  # TODO\n",
        "weight_decay = 0.00003  # TODO\n",
        "\n",
        "embedding_dim = 2048\n",
        "hidden_size = 2048\n",
        "\n",
        "source_vocab, target_vocab, train_loader, val_loader = get_data_loader(\n",
        "  source_text, target_text, batch_size)\n",
        "model = NMT_AttLSTM(source_vocab.size, target_vocab.size, embedding_dim, hidden_size, MAX_LEN + 1)\n",
        "model = model.cuda()\n",
        "\n",
        "model, loss_history = train(model, train_loader, val_loader, num_epochs, learning_rate, weight_decay)"
      ],
      "id": "artificial-general"
    },
    {
      "cell_type": "code",
      "execution_count": null,
      "metadata": {
        "id": "confidential-saskatchewan"
      },
      "outputs": [],
      "source": [
        "plt.plot(loss_history, 'o')\n",
        "plt.xlabel('Iteration number')\n",
        "plt.ylabel('Loss value')\n",
        "plt.show()"
      ],
      "id": "confidential-saskatchewan"
    },
    {
      "cell_type": "code",
      "execution_count": null,
      "metadata": {
        "id": "worthy-stewart"
      },
      "outputs": [],
      "source": [
        "train_acc = eval_acc(model, train_loader)\n",
        "print('Training Accuracy:', train_acc)"
      ],
      "id": "worthy-stewart"
    },
    {
      "cell_type": "code",
      "execution_count": null,
      "metadata": {
        "id": "728ac9b8"
      },
      "outputs": [],
      "source": [
        "val_acc = eval_acc(model, val_loader)\n",
        "print('Validation Accuracy:', val_acc)"
      ],
      "id": "728ac9b8"
    },
    {
      "cell_type": "markdown",
      "metadata": {
        "id": "758e4b93"
      },
      "source": [
        "The following grading cells will assign partial credit based on the validation accuracy. Please do not remove.\n",
        "- ${\\geq} 44\\%$: 30 points\n",
        "- $41\\% {\\sim} 44\\%$: 25 points\n",
        "- $37\\% {\\sim} 41\\%$: 20 points\n",
        "- $33\\% {\\sim} 37\\%$: 15 points\n",
        "- $29\\% {\\sim} 33\\%$: 10 points\n",
        "- $25\\% {\\sim} 29\\%$: 5 points\n",
        "- ${<} 25\\%$: no credit"
      ],
      "id": "758e4b93"
    },
    {
      "cell_type": "code",
      "execution_count": null,
      "metadata": {
        "id": "17483385"
      },
      "outputs": [],
      "source": [
        "# Grading cell. Do not remove."
      ],
      "id": "17483385"
    },
    {
      "cell_type": "code",
      "execution_count": null,
      "metadata": {
        "id": "b811b5d5"
      },
      "outputs": [],
      "source": [
        "# Grading cell. Do not remove."
      ],
      "id": "b811b5d5"
    },
    {
      "cell_type": "code",
      "execution_count": null,
      "metadata": {
        "id": "f13e538b"
      },
      "outputs": [],
      "source": [
        "# Grading cell. Do not remove."
      ],
      "id": "f13e538b"
    },
    {
      "cell_type": "code",
      "execution_count": null,
      "metadata": {
        "id": "f33a8ed5"
      },
      "outputs": [],
      "source": [
        "# Grading cell. Do not remove."
      ],
      "id": "f33a8ed5"
    },
    {
      "cell_type": "code",
      "execution_count": null,
      "metadata": {
        "id": "07ddada4"
      },
      "outputs": [],
      "source": [
        "# Grading cell. Do not remove."
      ],
      "id": "07ddada4"
    },
    {
      "cell_type": "code",
      "execution_count": null,
      "metadata": {
        "id": "6eb5baf7"
      },
      "outputs": [],
      "source": [
        "# Grading cell. Do not remove."
      ],
      "id": "6eb5baf7"
    }
  ],
  "metadata": {
    "accelerator": "GPU",
    "colab": {
      "provenance": []
    },
    "gpuClass": "standard",
    "kernelspec": {
      "display_name": "Python 3 (ipykernel)",
      "language": "python",
      "name": "python3"
    },
    "language_info": {
      "codemirror_mode": {
        "name": "ipython",
        "version": 3
      },
      "file_extension": ".py",
      "mimetype": "text/x-python",
      "name": "python",
      "nbconvert_exporter": "python",
      "pygments_lexer": "ipython3",
      "version": "3.8.16"
    }
  },
  "nbformat": 4,
  "nbformat_minor": 5
}